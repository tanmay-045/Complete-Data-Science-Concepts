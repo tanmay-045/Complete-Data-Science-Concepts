{
 "cells": [
  {
   "cell_type": "markdown",
   "id": "85a7760b-f9a9-4bb4-ab67-28ccaba165d2",
   "metadata": {},
   "source": [
    "### Q1: What are missing values in a dataset? Why is it essential to handle missing values? Name some algorithms that are not affected by missing values.\n",
    "\n",
    "**Missing Values in a Dataset:**\n",
    "Missing values in a dataset occur when no data value is stored for a variable in an observation. These can result from various reasons, such as data entry errors, measurement errors, or missing data points.\n",
    "\n",
    "\n",
    "**MCAR, MAR, and MNAR**:\n",
    "\n",
    "- **MCAR (Missing Completely at Random)**: The missingness is entirely independent of any data, observed or unobserved. E.g., a data entry error causing random missing values.\n",
    "\n",
    "- **MAR (Missing at Random)**: The missingness is related to the observed data but not the unobserved data. E.g., missing income data might depend on employment status (observed) but not on the income itself (unobserved).\n",
    "\n",
    "- **MNAR (Missing Not at Random)**: The missingness is related to the unobserved data itself. E.g., people with higher incomes might choose not to disclose their income.\n",
    "\n",
    "\n",
    "**Importance of Handling Missing Values:**\n",
    "1. **Accuracy:** Missing values can lead to inaccurate model predictions.\n",
    "2. **Analysis Validity:** They can bias the results of data analysis, leading to invalid conclusions.\n",
    "3. **Model Training:** Many machine learning algorithms do not work with missing values and can fail or give errors during training.\n",
    "\n",
    "**Algorithms Not Affected by Missing Values:**\n",
    "1. **Decision Trees** (e.g., CART, Random Forests) can handle missing values naturally by splitting nodes based on available features.\n",
    "2. **K-Nearest Neighbors (KNN)** can impute missing values based on the nearest neighbors.\n",
    "3. **XGBoost** has built-in handling for missing values during training."
   ]
  },
  {
   "cell_type": "markdown",
   "id": "53adf470-5884-44a3-9727-ff800baabed6",
   "metadata": {},
   "source": [
    "### Q2: List down techniques used to handle missing data.  Give an example of each with python code.\n",
    "\n",
    "**Techniques to Handle Missing Data:**\n",
    "\n",
    "1. **Deletion Methods:**\n",
    "   - **Listwise Deletion (Complete Case Analysis):** Remove any observations with missing values.\n",
    "   - **Pairwise Deletion:** Use all available data for each analysis without removing entire observations.\n",
    "\n",
    "2. **Imputation Methods:**\n",
    "   - **Mean/Median/Mode Imputation:** Replace missing values with the mean, median, or mode of the column.\n",
    "   - **Forward/Backward Fill:** Use the previous or next value in the sequence to fill missing values.\n",
    "   - **K-Nearest Neighbors (KNN) Imputation:** Use the values from the nearest neighbors to impute missing data.\n",
    "   - **Multivariate Imputation by Chained Equations (MICE):** Impute missing data through multiple rounds of regression modeling.\n",
    "\n",
    "3. **Model-Based Methods:**\n",
    "   - **Regression Imputation:** Predict missing values using a regression model based on other available variables.\n",
    "   - **Expectation-Maximization (EM):** Use iterative methods to estimate missing data and update parameter estimates.\n",
    "\n",
    "4. **Advanced Techniques:**\n",
    "   - **Machine Learning Algorithms:** Use models like Random Forests, which can handle missing values internally.\n",
    "   - **Deep Learning Methods:** Apply neural networks that can learn patterns in missing data.\n",
    "\n",
    "5. **Special Techniques:**\n",
    "   - **Indicator Method:** Add a binary indicator variable to flag missing values and impute with a specific value (e.g., zero).\n",
    "   - **Multiple Imputation:** Generate multiple datasets with different imputed values and combine results for robust analysis.\n"
   ]
  },
  {
   "cell_type": "code",
   "execution_count": 1,
   "id": "1212c4ed-ef9b-40a5-aee4-fec72f2391d3",
   "metadata": {},
   "outputs": [],
   "source": [
    "# Importing necessary libraries\n",
    "import seaborn as sns\n",
    "import numpy as np\n",
    "import pandas as pd"
   ]
  },
  {
   "cell_type": "markdown",
   "id": "63e6166e-d3b4-4dde-8cf8-866812f47275",
   "metadata": {},
   "source": [
    "### Deletion Methods \n",
    "#### Deletion method is not efficient and should be avoided in most cases as we lost significant amount of data sometimes.\n",
    "#### Here we are using 'titanic' dataset "
   ]
  },
  {
   "cell_type": "code",
   "execution_count": 2,
   "id": "5f0d2eec-2ba0-49ee-a4b6-95146e5d486e",
   "metadata": {},
   "outputs": [
    {
     "data": {
      "text/html": [
       "<div>\n",
       "<style scoped>\n",
       "    .dataframe tbody tr th:only-of-type {\n",
       "        vertical-align: middle;\n",
       "    }\n",
       "\n",
       "    .dataframe tbody tr th {\n",
       "        vertical-align: top;\n",
       "    }\n",
       "\n",
       "    .dataframe thead th {\n",
       "        text-align: right;\n",
       "    }\n",
       "</style>\n",
       "<table border=\"1\" class=\"dataframe\">\n",
       "  <thead>\n",
       "    <tr style=\"text-align: right;\">\n",
       "      <th></th>\n",
       "      <th>survived</th>\n",
       "      <th>pclass</th>\n",
       "      <th>sex</th>\n",
       "      <th>age</th>\n",
       "      <th>sibsp</th>\n",
       "      <th>parch</th>\n",
       "      <th>fare</th>\n",
       "      <th>embarked</th>\n",
       "      <th>class</th>\n",
       "      <th>who</th>\n",
       "      <th>adult_male</th>\n",
       "      <th>deck</th>\n",
       "      <th>embark_town</th>\n",
       "      <th>alive</th>\n",
       "      <th>alone</th>\n",
       "    </tr>\n",
       "  </thead>\n",
       "  <tbody>\n",
       "    <tr>\n",
       "      <th>0</th>\n",
       "      <td>0</td>\n",
       "      <td>3</td>\n",
       "      <td>male</td>\n",
       "      <td>22.0</td>\n",
       "      <td>1</td>\n",
       "      <td>0</td>\n",
       "      <td>7.2500</td>\n",
       "      <td>S</td>\n",
       "      <td>Third</td>\n",
       "      <td>man</td>\n",
       "      <td>True</td>\n",
       "      <td>NaN</td>\n",
       "      <td>Southampton</td>\n",
       "      <td>no</td>\n",
       "      <td>False</td>\n",
       "    </tr>\n",
       "    <tr>\n",
       "      <th>1</th>\n",
       "      <td>1</td>\n",
       "      <td>1</td>\n",
       "      <td>female</td>\n",
       "      <td>38.0</td>\n",
       "      <td>1</td>\n",
       "      <td>0</td>\n",
       "      <td>71.2833</td>\n",
       "      <td>C</td>\n",
       "      <td>First</td>\n",
       "      <td>woman</td>\n",
       "      <td>False</td>\n",
       "      <td>C</td>\n",
       "      <td>Cherbourg</td>\n",
       "      <td>yes</td>\n",
       "      <td>False</td>\n",
       "    </tr>\n",
       "    <tr>\n",
       "      <th>2</th>\n",
       "      <td>1</td>\n",
       "      <td>3</td>\n",
       "      <td>female</td>\n",
       "      <td>26.0</td>\n",
       "      <td>0</td>\n",
       "      <td>0</td>\n",
       "      <td>7.9250</td>\n",
       "      <td>S</td>\n",
       "      <td>Third</td>\n",
       "      <td>woman</td>\n",
       "      <td>False</td>\n",
       "      <td>NaN</td>\n",
       "      <td>Southampton</td>\n",
       "      <td>yes</td>\n",
       "      <td>True</td>\n",
       "    </tr>\n",
       "    <tr>\n",
       "      <th>3</th>\n",
       "      <td>1</td>\n",
       "      <td>1</td>\n",
       "      <td>female</td>\n",
       "      <td>35.0</td>\n",
       "      <td>1</td>\n",
       "      <td>0</td>\n",
       "      <td>53.1000</td>\n",
       "      <td>S</td>\n",
       "      <td>First</td>\n",
       "      <td>woman</td>\n",
       "      <td>False</td>\n",
       "      <td>C</td>\n",
       "      <td>Southampton</td>\n",
       "      <td>yes</td>\n",
       "      <td>False</td>\n",
       "    </tr>\n",
       "    <tr>\n",
       "      <th>4</th>\n",
       "      <td>0</td>\n",
       "      <td>3</td>\n",
       "      <td>male</td>\n",
       "      <td>35.0</td>\n",
       "      <td>0</td>\n",
       "      <td>0</td>\n",
       "      <td>8.0500</td>\n",
       "      <td>S</td>\n",
       "      <td>Third</td>\n",
       "      <td>man</td>\n",
       "      <td>True</td>\n",
       "      <td>NaN</td>\n",
       "      <td>Southampton</td>\n",
       "      <td>no</td>\n",
       "      <td>True</td>\n",
       "    </tr>\n",
       "  </tbody>\n",
       "</table>\n",
       "</div>"
      ],
      "text/plain": [
       "   survived  pclass     sex   age  sibsp  parch     fare embarked  class  \\\n",
       "0         0       3    male  22.0      1      0   7.2500        S  Third   \n",
       "1         1       1  female  38.0      1      0  71.2833        C  First   \n",
       "2         1       3  female  26.0      0      0   7.9250        S  Third   \n",
       "3         1       1  female  35.0      1      0  53.1000        S  First   \n",
       "4         0       3    male  35.0      0      0   8.0500        S  Third   \n",
       "\n",
       "     who  adult_male deck  embark_town alive  alone  \n",
       "0    man        True  NaN  Southampton    no  False  \n",
       "1  woman       False    C    Cherbourg   yes  False  \n",
       "2  woman       False  NaN  Southampton   yes   True  \n",
       "3  woman       False    C  Southampton   yes  False  \n",
       "4    man        True  NaN  Southampton    no   True  "
      ]
     },
     "execution_count": 2,
     "metadata": {},
     "output_type": "execute_result"
    }
   ],
   "source": [
    "# creating dataframe \n",
    "df = sns.load_dataset('titanic')\n",
    "df.head()"
   ]
  },
  {
   "cell_type": "code",
   "execution_count": 3,
   "id": "8d0b67c8-0e2c-459f-81c7-9169a3b2719d",
   "metadata": {},
   "outputs": [
    {
     "data": {
      "text/html": [
       "<div>\n",
       "<style scoped>\n",
       "    .dataframe tbody tr th:only-of-type {\n",
       "        vertical-align: middle;\n",
       "    }\n",
       "\n",
       "    .dataframe tbody tr th {\n",
       "        vertical-align: top;\n",
       "    }\n",
       "\n",
       "    .dataframe thead th {\n",
       "        text-align: right;\n",
       "    }\n",
       "</style>\n",
       "<table border=\"1\" class=\"dataframe\">\n",
       "  <thead>\n",
       "    <tr style=\"text-align: right;\">\n",
       "      <th></th>\n",
       "      <th>survived</th>\n",
       "      <th>pclass</th>\n",
       "      <th>sex</th>\n",
       "      <th>age</th>\n",
       "      <th>sibsp</th>\n",
       "      <th>parch</th>\n",
       "      <th>fare</th>\n",
       "      <th>embarked</th>\n",
       "      <th>class</th>\n",
       "      <th>who</th>\n",
       "      <th>adult_male</th>\n",
       "      <th>deck</th>\n",
       "      <th>embark_town</th>\n",
       "      <th>alive</th>\n",
       "      <th>alone</th>\n",
       "    </tr>\n",
       "  </thead>\n",
       "  <tbody>\n",
       "    <tr>\n",
       "      <th>0</th>\n",
       "      <td>False</td>\n",
       "      <td>False</td>\n",
       "      <td>False</td>\n",
       "      <td>False</td>\n",
       "      <td>False</td>\n",
       "      <td>False</td>\n",
       "      <td>False</td>\n",
       "      <td>False</td>\n",
       "      <td>False</td>\n",
       "      <td>False</td>\n",
       "      <td>False</td>\n",
       "      <td>True</td>\n",
       "      <td>False</td>\n",
       "      <td>False</td>\n",
       "      <td>False</td>\n",
       "    </tr>\n",
       "    <tr>\n",
       "      <th>1</th>\n",
       "      <td>False</td>\n",
       "      <td>False</td>\n",
       "      <td>False</td>\n",
       "      <td>False</td>\n",
       "      <td>False</td>\n",
       "      <td>False</td>\n",
       "      <td>False</td>\n",
       "      <td>False</td>\n",
       "      <td>False</td>\n",
       "      <td>False</td>\n",
       "      <td>False</td>\n",
       "      <td>False</td>\n",
       "      <td>False</td>\n",
       "      <td>False</td>\n",
       "      <td>False</td>\n",
       "    </tr>\n",
       "    <tr>\n",
       "      <th>2</th>\n",
       "      <td>False</td>\n",
       "      <td>False</td>\n",
       "      <td>False</td>\n",
       "      <td>False</td>\n",
       "      <td>False</td>\n",
       "      <td>False</td>\n",
       "      <td>False</td>\n",
       "      <td>False</td>\n",
       "      <td>False</td>\n",
       "      <td>False</td>\n",
       "      <td>False</td>\n",
       "      <td>True</td>\n",
       "      <td>False</td>\n",
       "      <td>False</td>\n",
       "      <td>False</td>\n",
       "    </tr>\n",
       "    <tr>\n",
       "      <th>3</th>\n",
       "      <td>False</td>\n",
       "      <td>False</td>\n",
       "      <td>False</td>\n",
       "      <td>False</td>\n",
       "      <td>False</td>\n",
       "      <td>False</td>\n",
       "      <td>False</td>\n",
       "      <td>False</td>\n",
       "      <td>False</td>\n",
       "      <td>False</td>\n",
       "      <td>False</td>\n",
       "      <td>False</td>\n",
       "      <td>False</td>\n",
       "      <td>False</td>\n",
       "      <td>False</td>\n",
       "    </tr>\n",
       "    <tr>\n",
       "      <th>4</th>\n",
       "      <td>False</td>\n",
       "      <td>False</td>\n",
       "      <td>False</td>\n",
       "      <td>False</td>\n",
       "      <td>False</td>\n",
       "      <td>False</td>\n",
       "      <td>False</td>\n",
       "      <td>False</td>\n",
       "      <td>False</td>\n",
       "      <td>False</td>\n",
       "      <td>False</td>\n",
       "      <td>True</td>\n",
       "      <td>False</td>\n",
       "      <td>False</td>\n",
       "      <td>False</td>\n",
       "    </tr>\n",
       "    <tr>\n",
       "      <th>...</th>\n",
       "      <td>...</td>\n",
       "      <td>...</td>\n",
       "      <td>...</td>\n",
       "      <td>...</td>\n",
       "      <td>...</td>\n",
       "      <td>...</td>\n",
       "      <td>...</td>\n",
       "      <td>...</td>\n",
       "      <td>...</td>\n",
       "      <td>...</td>\n",
       "      <td>...</td>\n",
       "      <td>...</td>\n",
       "      <td>...</td>\n",
       "      <td>...</td>\n",
       "      <td>...</td>\n",
       "    </tr>\n",
       "    <tr>\n",
       "      <th>886</th>\n",
       "      <td>False</td>\n",
       "      <td>False</td>\n",
       "      <td>False</td>\n",
       "      <td>False</td>\n",
       "      <td>False</td>\n",
       "      <td>False</td>\n",
       "      <td>False</td>\n",
       "      <td>False</td>\n",
       "      <td>False</td>\n",
       "      <td>False</td>\n",
       "      <td>False</td>\n",
       "      <td>True</td>\n",
       "      <td>False</td>\n",
       "      <td>False</td>\n",
       "      <td>False</td>\n",
       "    </tr>\n",
       "    <tr>\n",
       "      <th>887</th>\n",
       "      <td>False</td>\n",
       "      <td>False</td>\n",
       "      <td>False</td>\n",
       "      <td>False</td>\n",
       "      <td>False</td>\n",
       "      <td>False</td>\n",
       "      <td>False</td>\n",
       "      <td>False</td>\n",
       "      <td>False</td>\n",
       "      <td>False</td>\n",
       "      <td>False</td>\n",
       "      <td>False</td>\n",
       "      <td>False</td>\n",
       "      <td>False</td>\n",
       "      <td>False</td>\n",
       "    </tr>\n",
       "    <tr>\n",
       "      <th>888</th>\n",
       "      <td>False</td>\n",
       "      <td>False</td>\n",
       "      <td>False</td>\n",
       "      <td>True</td>\n",
       "      <td>False</td>\n",
       "      <td>False</td>\n",
       "      <td>False</td>\n",
       "      <td>False</td>\n",
       "      <td>False</td>\n",
       "      <td>False</td>\n",
       "      <td>False</td>\n",
       "      <td>True</td>\n",
       "      <td>False</td>\n",
       "      <td>False</td>\n",
       "      <td>False</td>\n",
       "    </tr>\n",
       "    <tr>\n",
       "      <th>889</th>\n",
       "      <td>False</td>\n",
       "      <td>False</td>\n",
       "      <td>False</td>\n",
       "      <td>False</td>\n",
       "      <td>False</td>\n",
       "      <td>False</td>\n",
       "      <td>False</td>\n",
       "      <td>False</td>\n",
       "      <td>False</td>\n",
       "      <td>False</td>\n",
       "      <td>False</td>\n",
       "      <td>False</td>\n",
       "      <td>False</td>\n",
       "      <td>False</td>\n",
       "      <td>False</td>\n",
       "    </tr>\n",
       "    <tr>\n",
       "      <th>890</th>\n",
       "      <td>False</td>\n",
       "      <td>False</td>\n",
       "      <td>False</td>\n",
       "      <td>False</td>\n",
       "      <td>False</td>\n",
       "      <td>False</td>\n",
       "      <td>False</td>\n",
       "      <td>False</td>\n",
       "      <td>False</td>\n",
       "      <td>False</td>\n",
       "      <td>False</td>\n",
       "      <td>True</td>\n",
       "      <td>False</td>\n",
       "      <td>False</td>\n",
       "      <td>False</td>\n",
       "    </tr>\n",
       "  </tbody>\n",
       "</table>\n",
       "<p>891 rows × 15 columns</p>\n",
       "</div>"
      ],
      "text/plain": [
       "     survived  pclass    sex    age  sibsp  parch   fare  embarked  class  \\\n",
       "0       False   False  False  False  False  False  False     False  False   \n",
       "1       False   False  False  False  False  False  False     False  False   \n",
       "2       False   False  False  False  False  False  False     False  False   \n",
       "3       False   False  False  False  False  False  False     False  False   \n",
       "4       False   False  False  False  False  False  False     False  False   \n",
       "..        ...     ...    ...    ...    ...    ...    ...       ...    ...   \n",
       "886     False   False  False  False  False  False  False     False  False   \n",
       "887     False   False  False  False  False  False  False     False  False   \n",
       "888     False   False  False   True  False  False  False     False  False   \n",
       "889     False   False  False  False  False  False  False     False  False   \n",
       "890     False   False  False  False  False  False  False     False  False   \n",
       "\n",
       "       who  adult_male   deck  embark_town  alive  alone  \n",
       "0    False       False   True        False  False  False  \n",
       "1    False       False  False        False  False  False  \n",
       "2    False       False   True        False  False  False  \n",
       "3    False       False  False        False  False  False  \n",
       "4    False       False   True        False  False  False  \n",
       "..     ...         ...    ...          ...    ...    ...  \n",
       "886  False       False   True        False  False  False  \n",
       "887  False       False  False        False  False  False  \n",
       "888  False       False   True        False  False  False  \n",
       "889  False       False  False        False  False  False  \n",
       "890  False       False   True        False  False  False  \n",
       "\n",
       "[891 rows x 15 columns]"
      ]
     },
     "execution_count": 3,
     "metadata": {},
     "output_type": "execute_result"
    }
   ],
   "source": [
    "# observing missing/null values\n",
    "# here False represents 'not null' and true represents 'null' values\n",
    "df.isnull()"
   ]
  },
  {
   "cell_type": "code",
   "execution_count": 4,
   "id": "8964aaaa-730b-4116-9867-bb19246bc274",
   "metadata": {},
   "outputs": [
    {
     "data": {
      "text/plain": [
       "survived         0\n",
       "pclass           0\n",
       "sex              0\n",
       "age            177\n",
       "sibsp            0\n",
       "parch            0\n",
       "fare             0\n",
       "embarked         2\n",
       "class            0\n",
       "who              0\n",
       "adult_male       0\n",
       "deck           688\n",
       "embark_town      2\n",
       "alive            0\n",
       "alone            0\n",
       "dtype: int64"
      ]
     },
     "execution_count": 4,
     "metadata": {},
     "output_type": "execute_result"
    }
   ],
   "source": [
    "# finding total null values for each column\n",
    "df.isnull().sum()"
   ]
  },
  {
   "cell_type": "code",
   "execution_count": 5,
   "id": "b6705ea8-0b91-4561-a87b-ea477e1f5280",
   "metadata": {},
   "outputs": [
    {
     "data": {
      "text/plain": [
       "(891, 15)"
      ]
     },
     "execution_count": 5,
     "metadata": {},
     "output_type": "execute_result"
    }
   ],
   "source": [
    "# observing shape of dataset\n",
    "df.shape"
   ]
  },
  {
   "cell_type": "code",
   "execution_count": 6,
   "id": "14f356d1-97a3-4657-bf8e-32d7d522fc8c",
   "metadata": {},
   "outputs": [
    {
     "data": {
      "text/html": [
       "<div>\n",
       "<style scoped>\n",
       "    .dataframe tbody tr th:only-of-type {\n",
       "        vertical-align: middle;\n",
       "    }\n",
       "\n",
       "    .dataframe tbody tr th {\n",
       "        vertical-align: top;\n",
       "    }\n",
       "\n",
       "    .dataframe thead th {\n",
       "        text-align: right;\n",
       "    }\n",
       "</style>\n",
       "<table border=\"1\" class=\"dataframe\">\n",
       "  <thead>\n",
       "    <tr style=\"text-align: right;\">\n",
       "      <th></th>\n",
       "      <th>survived</th>\n",
       "      <th>pclass</th>\n",
       "      <th>sex</th>\n",
       "      <th>age</th>\n",
       "      <th>sibsp</th>\n",
       "      <th>parch</th>\n",
       "      <th>fare</th>\n",
       "      <th>embarked</th>\n",
       "      <th>class</th>\n",
       "      <th>who</th>\n",
       "      <th>adult_male</th>\n",
       "      <th>deck</th>\n",
       "      <th>embark_town</th>\n",
       "      <th>alive</th>\n",
       "      <th>alone</th>\n",
       "    </tr>\n",
       "  </thead>\n",
       "  <tbody>\n",
       "    <tr>\n",
       "      <th>1</th>\n",
       "      <td>1</td>\n",
       "      <td>1</td>\n",
       "      <td>female</td>\n",
       "      <td>38.0</td>\n",
       "      <td>1</td>\n",
       "      <td>0</td>\n",
       "      <td>71.2833</td>\n",
       "      <td>C</td>\n",
       "      <td>First</td>\n",
       "      <td>woman</td>\n",
       "      <td>False</td>\n",
       "      <td>C</td>\n",
       "      <td>Cherbourg</td>\n",
       "      <td>yes</td>\n",
       "      <td>False</td>\n",
       "    </tr>\n",
       "    <tr>\n",
       "      <th>3</th>\n",
       "      <td>1</td>\n",
       "      <td>1</td>\n",
       "      <td>female</td>\n",
       "      <td>35.0</td>\n",
       "      <td>1</td>\n",
       "      <td>0</td>\n",
       "      <td>53.1000</td>\n",
       "      <td>S</td>\n",
       "      <td>First</td>\n",
       "      <td>woman</td>\n",
       "      <td>False</td>\n",
       "      <td>C</td>\n",
       "      <td>Southampton</td>\n",
       "      <td>yes</td>\n",
       "      <td>False</td>\n",
       "    </tr>\n",
       "    <tr>\n",
       "      <th>6</th>\n",
       "      <td>0</td>\n",
       "      <td>1</td>\n",
       "      <td>male</td>\n",
       "      <td>54.0</td>\n",
       "      <td>0</td>\n",
       "      <td>0</td>\n",
       "      <td>51.8625</td>\n",
       "      <td>S</td>\n",
       "      <td>First</td>\n",
       "      <td>man</td>\n",
       "      <td>True</td>\n",
       "      <td>E</td>\n",
       "      <td>Southampton</td>\n",
       "      <td>no</td>\n",
       "      <td>True</td>\n",
       "    </tr>\n",
       "    <tr>\n",
       "      <th>10</th>\n",
       "      <td>1</td>\n",
       "      <td>3</td>\n",
       "      <td>female</td>\n",
       "      <td>4.0</td>\n",
       "      <td>1</td>\n",
       "      <td>1</td>\n",
       "      <td>16.7000</td>\n",
       "      <td>S</td>\n",
       "      <td>Third</td>\n",
       "      <td>child</td>\n",
       "      <td>False</td>\n",
       "      <td>G</td>\n",
       "      <td>Southampton</td>\n",
       "      <td>yes</td>\n",
       "      <td>False</td>\n",
       "    </tr>\n",
       "    <tr>\n",
       "      <th>11</th>\n",
       "      <td>1</td>\n",
       "      <td>1</td>\n",
       "      <td>female</td>\n",
       "      <td>58.0</td>\n",
       "      <td>0</td>\n",
       "      <td>0</td>\n",
       "      <td>26.5500</td>\n",
       "      <td>S</td>\n",
       "      <td>First</td>\n",
       "      <td>woman</td>\n",
       "      <td>False</td>\n",
       "      <td>C</td>\n",
       "      <td>Southampton</td>\n",
       "      <td>yes</td>\n",
       "      <td>True</td>\n",
       "    </tr>\n",
       "    <tr>\n",
       "      <th>...</th>\n",
       "      <td>...</td>\n",
       "      <td>...</td>\n",
       "      <td>...</td>\n",
       "      <td>...</td>\n",
       "      <td>...</td>\n",
       "      <td>...</td>\n",
       "      <td>...</td>\n",
       "      <td>...</td>\n",
       "      <td>...</td>\n",
       "      <td>...</td>\n",
       "      <td>...</td>\n",
       "      <td>...</td>\n",
       "      <td>...</td>\n",
       "      <td>...</td>\n",
       "      <td>...</td>\n",
       "    </tr>\n",
       "    <tr>\n",
       "      <th>871</th>\n",
       "      <td>1</td>\n",
       "      <td>1</td>\n",
       "      <td>female</td>\n",
       "      <td>47.0</td>\n",
       "      <td>1</td>\n",
       "      <td>1</td>\n",
       "      <td>52.5542</td>\n",
       "      <td>S</td>\n",
       "      <td>First</td>\n",
       "      <td>woman</td>\n",
       "      <td>False</td>\n",
       "      <td>D</td>\n",
       "      <td>Southampton</td>\n",
       "      <td>yes</td>\n",
       "      <td>False</td>\n",
       "    </tr>\n",
       "    <tr>\n",
       "      <th>872</th>\n",
       "      <td>0</td>\n",
       "      <td>1</td>\n",
       "      <td>male</td>\n",
       "      <td>33.0</td>\n",
       "      <td>0</td>\n",
       "      <td>0</td>\n",
       "      <td>5.0000</td>\n",
       "      <td>S</td>\n",
       "      <td>First</td>\n",
       "      <td>man</td>\n",
       "      <td>True</td>\n",
       "      <td>B</td>\n",
       "      <td>Southampton</td>\n",
       "      <td>no</td>\n",
       "      <td>True</td>\n",
       "    </tr>\n",
       "    <tr>\n",
       "      <th>879</th>\n",
       "      <td>1</td>\n",
       "      <td>1</td>\n",
       "      <td>female</td>\n",
       "      <td>56.0</td>\n",
       "      <td>0</td>\n",
       "      <td>1</td>\n",
       "      <td>83.1583</td>\n",
       "      <td>C</td>\n",
       "      <td>First</td>\n",
       "      <td>woman</td>\n",
       "      <td>False</td>\n",
       "      <td>C</td>\n",
       "      <td>Cherbourg</td>\n",
       "      <td>yes</td>\n",
       "      <td>False</td>\n",
       "    </tr>\n",
       "    <tr>\n",
       "      <th>887</th>\n",
       "      <td>1</td>\n",
       "      <td>1</td>\n",
       "      <td>female</td>\n",
       "      <td>19.0</td>\n",
       "      <td>0</td>\n",
       "      <td>0</td>\n",
       "      <td>30.0000</td>\n",
       "      <td>S</td>\n",
       "      <td>First</td>\n",
       "      <td>woman</td>\n",
       "      <td>False</td>\n",
       "      <td>B</td>\n",
       "      <td>Southampton</td>\n",
       "      <td>yes</td>\n",
       "      <td>True</td>\n",
       "    </tr>\n",
       "    <tr>\n",
       "      <th>889</th>\n",
       "      <td>1</td>\n",
       "      <td>1</td>\n",
       "      <td>male</td>\n",
       "      <td>26.0</td>\n",
       "      <td>0</td>\n",
       "      <td>0</td>\n",
       "      <td>30.0000</td>\n",
       "      <td>C</td>\n",
       "      <td>First</td>\n",
       "      <td>man</td>\n",
       "      <td>True</td>\n",
       "      <td>C</td>\n",
       "      <td>Cherbourg</td>\n",
       "      <td>yes</td>\n",
       "      <td>True</td>\n",
       "    </tr>\n",
       "  </tbody>\n",
       "</table>\n",
       "<p>182 rows × 15 columns</p>\n",
       "</div>"
      ],
      "text/plain": [
       "     survived  pclass     sex   age  sibsp  parch     fare embarked  class  \\\n",
       "1           1       1  female  38.0      1      0  71.2833        C  First   \n",
       "3           1       1  female  35.0      1      0  53.1000        S  First   \n",
       "6           0       1    male  54.0      0      0  51.8625        S  First   \n",
       "10          1       3  female   4.0      1      1  16.7000        S  Third   \n",
       "11          1       1  female  58.0      0      0  26.5500        S  First   \n",
       "..        ...     ...     ...   ...    ...    ...      ...      ...    ...   \n",
       "871         1       1  female  47.0      1      1  52.5542        S  First   \n",
       "872         0       1    male  33.0      0      0   5.0000        S  First   \n",
       "879         1       1  female  56.0      0      1  83.1583        C  First   \n",
       "887         1       1  female  19.0      0      0  30.0000        S  First   \n",
       "889         1       1    male  26.0      0      0  30.0000        C  First   \n",
       "\n",
       "       who  adult_male deck  embark_town alive  alone  \n",
       "1    woman       False    C    Cherbourg   yes  False  \n",
       "3    woman       False    C  Southampton   yes  False  \n",
       "6      man        True    E  Southampton    no   True  \n",
       "10   child       False    G  Southampton   yes  False  \n",
       "11   woman       False    C  Southampton   yes   True  \n",
       "..     ...         ...  ...          ...   ...    ...  \n",
       "871  woman       False    D  Southampton   yes  False  \n",
       "872    man        True    B  Southampton    no   True  \n",
       "879  woman       False    C    Cherbourg   yes  False  \n",
       "887  woman       False    B  Southampton   yes   True  \n",
       "889    man        True    C    Cherbourg   yes   True  \n",
       "\n",
       "[182 rows x 15 columns]"
      ]
     },
     "execution_count": 6,
     "metadata": {},
     "output_type": "execute_result"
    }
   ],
   "source": [
    "# deleting null values \n",
    "# Drop rows which contain missing values. default axis=0\n",
    "# default inplace=Flase\n",
    "df.dropna()"
   ]
  },
  {
   "cell_type": "code",
   "execution_count": 7,
   "id": "e4ddd968-0919-4cc5-959b-24069bf24aba",
   "metadata": {},
   "outputs": [
    {
     "data": {
      "text/plain": [
       "(182, 15)"
      ]
     },
     "execution_count": 7,
     "metadata": {},
     "output_type": "execute_result"
    }
   ],
   "source": [
    "# printing shape after dropping null values row-wise\n",
    "df.dropna().shape\n",
    "# observe we lost significant amount of data"
   ]
  },
  {
   "cell_type": "code",
   "execution_count": 8,
   "id": "abed5b13-180f-4117-bd20-994f7a2ef97e",
   "metadata": {},
   "outputs": [
    {
     "data": {
      "text/html": [
       "<div>\n",
       "<style scoped>\n",
       "    .dataframe tbody tr th:only-of-type {\n",
       "        vertical-align: middle;\n",
       "    }\n",
       "\n",
       "    .dataframe tbody tr th {\n",
       "        vertical-align: top;\n",
       "    }\n",
       "\n",
       "    .dataframe thead th {\n",
       "        text-align: right;\n",
       "    }\n",
       "</style>\n",
       "<table border=\"1\" class=\"dataframe\">\n",
       "  <thead>\n",
       "    <tr style=\"text-align: right;\">\n",
       "      <th></th>\n",
       "      <th>survived</th>\n",
       "      <th>pclass</th>\n",
       "      <th>sex</th>\n",
       "      <th>sibsp</th>\n",
       "      <th>parch</th>\n",
       "      <th>fare</th>\n",
       "      <th>class</th>\n",
       "      <th>who</th>\n",
       "      <th>adult_male</th>\n",
       "      <th>alive</th>\n",
       "      <th>alone</th>\n",
       "    </tr>\n",
       "  </thead>\n",
       "  <tbody>\n",
       "    <tr>\n",
       "      <th>0</th>\n",
       "      <td>0</td>\n",
       "      <td>3</td>\n",
       "      <td>male</td>\n",
       "      <td>1</td>\n",
       "      <td>0</td>\n",
       "      <td>7.2500</td>\n",
       "      <td>Third</td>\n",
       "      <td>man</td>\n",
       "      <td>True</td>\n",
       "      <td>no</td>\n",
       "      <td>False</td>\n",
       "    </tr>\n",
       "    <tr>\n",
       "      <th>1</th>\n",
       "      <td>1</td>\n",
       "      <td>1</td>\n",
       "      <td>female</td>\n",
       "      <td>1</td>\n",
       "      <td>0</td>\n",
       "      <td>71.2833</td>\n",
       "      <td>First</td>\n",
       "      <td>woman</td>\n",
       "      <td>False</td>\n",
       "      <td>yes</td>\n",
       "      <td>False</td>\n",
       "    </tr>\n",
       "    <tr>\n",
       "      <th>2</th>\n",
       "      <td>1</td>\n",
       "      <td>3</td>\n",
       "      <td>female</td>\n",
       "      <td>0</td>\n",
       "      <td>0</td>\n",
       "      <td>7.9250</td>\n",
       "      <td>Third</td>\n",
       "      <td>woman</td>\n",
       "      <td>False</td>\n",
       "      <td>yes</td>\n",
       "      <td>True</td>\n",
       "    </tr>\n",
       "    <tr>\n",
       "      <th>3</th>\n",
       "      <td>1</td>\n",
       "      <td>1</td>\n",
       "      <td>female</td>\n",
       "      <td>1</td>\n",
       "      <td>0</td>\n",
       "      <td>53.1000</td>\n",
       "      <td>First</td>\n",
       "      <td>woman</td>\n",
       "      <td>False</td>\n",
       "      <td>yes</td>\n",
       "      <td>False</td>\n",
       "    </tr>\n",
       "    <tr>\n",
       "      <th>4</th>\n",
       "      <td>0</td>\n",
       "      <td>3</td>\n",
       "      <td>male</td>\n",
       "      <td>0</td>\n",
       "      <td>0</td>\n",
       "      <td>8.0500</td>\n",
       "      <td>Third</td>\n",
       "      <td>man</td>\n",
       "      <td>True</td>\n",
       "      <td>no</td>\n",
       "      <td>True</td>\n",
       "    </tr>\n",
       "    <tr>\n",
       "      <th>...</th>\n",
       "      <td>...</td>\n",
       "      <td>...</td>\n",
       "      <td>...</td>\n",
       "      <td>...</td>\n",
       "      <td>...</td>\n",
       "      <td>...</td>\n",
       "      <td>...</td>\n",
       "      <td>...</td>\n",
       "      <td>...</td>\n",
       "      <td>...</td>\n",
       "      <td>...</td>\n",
       "    </tr>\n",
       "    <tr>\n",
       "      <th>886</th>\n",
       "      <td>0</td>\n",
       "      <td>2</td>\n",
       "      <td>male</td>\n",
       "      <td>0</td>\n",
       "      <td>0</td>\n",
       "      <td>13.0000</td>\n",
       "      <td>Second</td>\n",
       "      <td>man</td>\n",
       "      <td>True</td>\n",
       "      <td>no</td>\n",
       "      <td>True</td>\n",
       "    </tr>\n",
       "    <tr>\n",
       "      <th>887</th>\n",
       "      <td>1</td>\n",
       "      <td>1</td>\n",
       "      <td>female</td>\n",
       "      <td>0</td>\n",
       "      <td>0</td>\n",
       "      <td>30.0000</td>\n",
       "      <td>First</td>\n",
       "      <td>woman</td>\n",
       "      <td>False</td>\n",
       "      <td>yes</td>\n",
       "      <td>True</td>\n",
       "    </tr>\n",
       "    <tr>\n",
       "      <th>888</th>\n",
       "      <td>0</td>\n",
       "      <td>3</td>\n",
       "      <td>female</td>\n",
       "      <td>1</td>\n",
       "      <td>2</td>\n",
       "      <td>23.4500</td>\n",
       "      <td>Third</td>\n",
       "      <td>woman</td>\n",
       "      <td>False</td>\n",
       "      <td>no</td>\n",
       "      <td>False</td>\n",
       "    </tr>\n",
       "    <tr>\n",
       "      <th>889</th>\n",
       "      <td>1</td>\n",
       "      <td>1</td>\n",
       "      <td>male</td>\n",
       "      <td>0</td>\n",
       "      <td>0</td>\n",
       "      <td>30.0000</td>\n",
       "      <td>First</td>\n",
       "      <td>man</td>\n",
       "      <td>True</td>\n",
       "      <td>yes</td>\n",
       "      <td>True</td>\n",
       "    </tr>\n",
       "    <tr>\n",
       "      <th>890</th>\n",
       "      <td>0</td>\n",
       "      <td>3</td>\n",
       "      <td>male</td>\n",
       "      <td>0</td>\n",
       "      <td>0</td>\n",
       "      <td>7.7500</td>\n",
       "      <td>Third</td>\n",
       "      <td>man</td>\n",
       "      <td>True</td>\n",
       "      <td>no</td>\n",
       "      <td>True</td>\n",
       "    </tr>\n",
       "  </tbody>\n",
       "</table>\n",
       "<p>891 rows × 11 columns</p>\n",
       "</div>"
      ],
      "text/plain": [
       "     survived  pclass     sex  sibsp  parch     fare   class    who  \\\n",
       "0           0       3    male      1      0   7.2500   Third    man   \n",
       "1           1       1  female      1      0  71.2833   First  woman   \n",
       "2           1       3  female      0      0   7.9250   Third  woman   \n",
       "3           1       1  female      1      0  53.1000   First  woman   \n",
       "4           0       3    male      0      0   8.0500   Third    man   \n",
       "..        ...     ...     ...    ...    ...      ...     ...    ...   \n",
       "886         0       2    male      0      0  13.0000  Second    man   \n",
       "887         1       1  female      0      0  30.0000   First  woman   \n",
       "888         0       3  female      1      2  23.4500   Third  woman   \n",
       "889         1       1    male      0      0  30.0000   First    man   \n",
       "890         0       3    male      0      0   7.7500   Third    man   \n",
       "\n",
       "     adult_male alive  alone  \n",
       "0          True    no  False  \n",
       "1         False   yes  False  \n",
       "2         False   yes   True  \n",
       "3         False   yes  False  \n",
       "4          True    no   True  \n",
       "..          ...   ...    ...  \n",
       "886        True    no   True  \n",
       "887       False   yes   True  \n",
       "888       False    no  False  \n",
       "889        True   yes   True  \n",
       "890        True    no   True  \n",
       "\n",
       "[891 rows x 11 columns]"
      ]
     },
     "execution_count": 8,
     "metadata": {},
     "output_type": "execute_result"
    }
   ],
   "source": [
    "# deleting column wise \n",
    "#  Drop columns which contain missing values.\n",
    "# inplace=False\n",
    "df.dropna(axis=1)"
   ]
  },
  {
   "cell_type": "code",
   "execution_count": 9,
   "id": "69e54c7c-50ec-4dea-8aa9-1fb0b41d9f9e",
   "metadata": {},
   "outputs": [
    {
     "data": {
      "text/plain": [
       "(891, 11)"
      ]
     },
     "execution_count": 9,
     "metadata": {},
     "output_type": "execute_result"
    }
   ],
   "source": [
    "df.dropna(axis=1).shape\n",
    "# observe 4 columns removed which contains missing values"
   ]
  },
  {
   "cell_type": "markdown",
   "id": "523e2a29-5d8b-4ffc-b0d1-4647e04562b5",
   "metadata": {},
   "source": [
    "## Imputation method \n",
    "\n",
    "#### Mean/Median/Mode Imputation:"
   ]
  },
  {
   "cell_type": "markdown",
   "id": "6cc6315a-9de0-4127-8506-202bf57e532a",
   "metadata": {},
   "source": [
    "**MEAN VALUE IMPUTATION**\n",
    "<br>\n",
    "It works well when we have normally distributed data"
   ]
  },
  {
   "cell_type": "code",
   "execution_count": 10,
   "id": "66aeb3eb-eac4-40a7-9987-f6041c1c9644",
   "metadata": {},
   "outputs": [
    {
     "data": {
      "text/plain": [
       "<AxesSubplot: xlabel='age', ylabel='Count'>"
      ]
     },
     "execution_count": 10,
     "metadata": {},
     "output_type": "execute_result"
    },
    {
     "data": {
      "image/png": "[encoded data removed]",
      "text/plain": [
       "<Figure size 640x480 with 1 Axes>"
      ]
     },
     "metadata": {},
     "output_type": "display_data"
    }
   ],
   "source": [
    "# as age column contains null values\n",
    "# plotting graph to observe if the data is noramally distriuted or not\n",
    "sns.histplot(df['age'],kde=True)"
   ]
  },
  {
   "cell_type": "code",
   "execution_count": 11,
   "id": "2a558c14-75a1-4dcf-8c8a-15f0dd048269",
   "metadata": {},
   "outputs": [],
   "source": [
    "# since it seems like normal distribution so we will use mean imputation method\n",
    "# adding new column, null values filled with mean values \n",
    "df['age_mean']=df['age'].fillna(df['age'].mean())"
   ]
  },
  {
   "cell_type": "code",
   "execution_count": 12,
   "id": "9936289f-4ea2-4e31-b76b-66787cc406b7",
   "metadata": {},
   "outputs": [
    {
     "data": {
      "text/html": [
       "<div>\n",
       "<style scoped>\n",
       "    .dataframe tbody tr th:only-of-type {\n",
       "        vertical-align: middle;\n",
       "    }\n",
       "\n",
       "    .dataframe tbody tr th {\n",
       "        vertical-align: top;\n",
       "    }\n",
       "\n",
       "    .dataframe thead th {\n",
       "        text-align: right;\n",
       "    }\n",
       "</style>\n",
       "<table border=\"1\" class=\"dataframe\">\n",
       "  <thead>\n",
       "    <tr style=\"text-align: right;\">\n",
       "      <th></th>\n",
       "      <th>age_mean</th>\n",
       "      <th>age</th>\n",
       "    </tr>\n",
       "  </thead>\n",
       "  <tbody>\n",
       "    <tr>\n",
       "      <th>0</th>\n",
       "      <td>22.000000</td>\n",
       "      <td>22.0</td>\n",
       "    </tr>\n",
       "    <tr>\n",
       "      <th>1</th>\n",
       "      <td>38.000000</td>\n",
       "      <td>38.0</td>\n",
       "    </tr>\n",
       "    <tr>\n",
       "      <th>2</th>\n",
       "      <td>26.000000</td>\n",
       "      <td>26.0</td>\n",
       "    </tr>\n",
       "    <tr>\n",
       "      <th>3</th>\n",
       "      <td>35.000000</td>\n",
       "      <td>35.0</td>\n",
       "    </tr>\n",
       "    <tr>\n",
       "      <th>4</th>\n",
       "      <td>35.000000</td>\n",
       "      <td>35.0</td>\n",
       "    </tr>\n",
       "    <tr>\n",
       "      <th>...</th>\n",
       "      <td>...</td>\n",
       "      <td>...</td>\n",
       "    </tr>\n",
       "    <tr>\n",
       "      <th>886</th>\n",
       "      <td>27.000000</td>\n",
       "      <td>27.0</td>\n",
       "    </tr>\n",
       "    <tr>\n",
       "      <th>887</th>\n",
       "      <td>19.000000</td>\n",
       "      <td>19.0</td>\n",
       "    </tr>\n",
       "    <tr>\n",
       "      <th>888</th>\n",
       "      <td>29.699118</td>\n",
       "      <td>NaN</td>\n",
       "    </tr>\n",
       "    <tr>\n",
       "      <th>889</th>\n",
       "      <td>26.000000</td>\n",
       "      <td>26.0</td>\n",
       "    </tr>\n",
       "    <tr>\n",
       "      <th>890</th>\n",
       "      <td>32.000000</td>\n",
       "      <td>32.0</td>\n",
       "    </tr>\n",
       "  </tbody>\n",
       "</table>\n",
       "<p>891 rows × 2 columns</p>\n",
       "</div>"
      ],
      "text/plain": [
       "      age_mean   age\n",
       "0    22.000000  22.0\n",
       "1    38.000000  38.0\n",
       "2    26.000000  26.0\n",
       "3    35.000000  35.0\n",
       "4    35.000000  35.0\n",
       "..         ...   ...\n",
       "886  27.000000  27.0\n",
       "887  19.000000  19.0\n",
       "888  29.699118   NaN\n",
       "889  26.000000  26.0\n",
       "890  32.000000  32.0\n",
       "\n",
       "[891 rows x 2 columns]"
      ]
     },
     "execution_count": 12,
     "metadata": {},
     "output_type": "execute_result"
    }
   ],
   "source": [
    "df[['age_mean','age']]"
   ]
  },
  {
   "cell_type": "code",
   "execution_count": 13,
   "id": "16971357-38e4-4d5b-9102-5fd21d3f0a41",
   "metadata": {},
   "outputs": [
    {
     "data": {
      "text/plain": [
       "<AxesSubplot: xlabel='age_mean', ylabel='Count'>"
      ]
     },
     "execution_count": 13,
     "metadata": {},
     "output_type": "execute_result"
    },
    {
     "data": {
      "image/png": "[encoded data removed]",
      "text/plain": [
       "<Figure size 640x480 with 1 Axes>"
      ]
     },
     "metadata": {},
     "output_type": "display_data"
    }
   ],
   "source": [
    "sns.histplot(df['age_mean'], kde=True)"
   ]
  },
  {
   "cell_type": "code",
   "execution_count": 14,
   "id": "649c221c-eca0-4a58-bc1e-206ea8451bfb",
   "metadata": {},
   "outputs": [
    {
     "data": {
      "text/plain": [
       "89"
      ]
     },
     "execution_count": 14,
     "metadata": {},
     "output_type": "execute_result"
    }
   ],
   "source": [
    "len(df['age_mean'].unique())"
   ]
  },
  {
   "cell_type": "markdown",
   "id": "9ed588a3-041a-440f-a0a4-ce1333917f37",
   "metadata": {},
   "source": [
    "**MEDIAN VALUE IMPUTATION**\n",
    "<br>\n",
    "It works well when we have outliers"
   ]
  },
  {
   "cell_type": "code",
   "execution_count": 15,
   "id": "a93c222f-6502-4048-8f04-3844638acca8",
   "metadata": {},
   "outputs": [],
   "source": [
    "# adding new column 'age_median' and filling all null values with median of age column\n",
    "df['age_median']=df['age'].fillna(df['age'].median())"
   ]
  },
  {
   "cell_type": "code",
   "execution_count": 16,
   "id": "a66b9ccf-bca8-4825-94a3-d0df705f0baf",
   "metadata": {},
   "outputs": [
    {
     "data": {
      "text/html": [
       "<div>\n",
       "<style scoped>\n",
       "    .dataframe tbody tr th:only-of-type {\n",
       "        vertical-align: middle;\n",
       "    }\n",
       "\n",
       "    .dataframe tbody tr th {\n",
       "        vertical-align: top;\n",
       "    }\n",
       "\n",
       "    .dataframe thead th {\n",
       "        text-align: right;\n",
       "    }\n",
       "</style>\n",
       "<table border=\"1\" class=\"dataframe\">\n",
       "  <thead>\n",
       "    <tr style=\"text-align: right;\">\n",
       "      <th></th>\n",
       "      <th>age_mean</th>\n",
       "      <th>age_median</th>\n",
       "      <th>age</th>\n",
       "    </tr>\n",
       "  </thead>\n",
       "  <tbody>\n",
       "    <tr>\n",
       "      <th>0</th>\n",
       "      <td>22.000000</td>\n",
       "      <td>22.0</td>\n",
       "      <td>22.0</td>\n",
       "    </tr>\n",
       "    <tr>\n",
       "      <th>1</th>\n",
       "      <td>38.000000</td>\n",
       "      <td>38.0</td>\n",
       "      <td>38.0</td>\n",
       "    </tr>\n",
       "    <tr>\n",
       "      <th>2</th>\n",
       "      <td>26.000000</td>\n",
       "      <td>26.0</td>\n",
       "      <td>26.0</td>\n",
       "    </tr>\n",
       "    <tr>\n",
       "      <th>3</th>\n",
       "      <td>35.000000</td>\n",
       "      <td>35.0</td>\n",
       "      <td>35.0</td>\n",
       "    </tr>\n",
       "    <tr>\n",
       "      <th>4</th>\n",
       "      <td>35.000000</td>\n",
       "      <td>35.0</td>\n",
       "      <td>35.0</td>\n",
       "    </tr>\n",
       "    <tr>\n",
       "      <th>...</th>\n",
       "      <td>...</td>\n",
       "      <td>...</td>\n",
       "      <td>...</td>\n",
       "    </tr>\n",
       "    <tr>\n",
       "      <th>886</th>\n",
       "      <td>27.000000</td>\n",
       "      <td>27.0</td>\n",
       "      <td>27.0</td>\n",
       "    </tr>\n",
       "    <tr>\n",
       "      <th>887</th>\n",
       "      <td>19.000000</td>\n",
       "      <td>19.0</td>\n",
       "      <td>19.0</td>\n",
       "    </tr>\n",
       "    <tr>\n",
       "      <th>888</th>\n",
       "      <td>29.699118</td>\n",
       "      <td>28.0</td>\n",
       "      <td>NaN</td>\n",
       "    </tr>\n",
       "    <tr>\n",
       "      <th>889</th>\n",
       "      <td>26.000000</td>\n",
       "      <td>26.0</td>\n",
       "      <td>26.0</td>\n",
       "    </tr>\n",
       "    <tr>\n",
       "      <th>890</th>\n",
       "      <td>32.000000</td>\n",
       "      <td>32.0</td>\n",
       "      <td>32.0</td>\n",
       "    </tr>\n",
       "  </tbody>\n",
       "</table>\n",
       "<p>891 rows × 3 columns</p>\n",
       "</div>"
      ],
      "text/plain": [
       "      age_mean  age_median   age\n",
       "0    22.000000        22.0  22.0\n",
       "1    38.000000        38.0  38.0\n",
       "2    26.000000        26.0  26.0\n",
       "3    35.000000        35.0  35.0\n",
       "4    35.000000        35.0  35.0\n",
       "..         ...         ...   ...\n",
       "886  27.000000        27.0  27.0\n",
       "887  19.000000        19.0  19.0\n",
       "888  29.699118        28.0   NaN\n",
       "889  26.000000        26.0  26.0\n",
       "890  32.000000        32.0  32.0\n",
       "\n",
       "[891 rows x 3 columns]"
      ]
     },
     "execution_count": 16,
     "metadata": {},
     "output_type": "execute_result"
    }
   ],
   "source": [
    "df[['age_mean','age_median','age']]"
   ]
  },
  {
   "cell_type": "code",
   "execution_count": 17,
   "id": "b1f1e2a4-a855-4dde-9223-7fd0e4f9c54c",
   "metadata": {},
   "outputs": [
    {
     "data": {
      "text/plain": [
       "<AxesSubplot: xlabel='age_median', ylabel='Count'>"
      ]
     },
     "execution_count": 17,
     "metadata": {},
     "output_type": "execute_result"
    },
    {
     "data": {
      "image/png": "[encoded data removed]",
      "text/plain": [
       "<Figure size 640x480 with 1 Axes>"
      ]
     },
     "metadata": {},
     "output_type": "display_data"
    }
   ],
   "source": [
    "sns.histplot(df['age_median'],kde=True)"
   ]
  },
  {
   "cell_type": "code",
   "execution_count": 18,
   "id": "07cc0393-ccdc-4806-bb48-730a8bc79850",
   "metadata": {},
   "outputs": [
    {
     "data": {
      "text/plain": [
       "0"
      ]
     },
     "execution_count": 18,
     "metadata": {},
     "output_type": "execute_result"
    }
   ],
   "source": [
    "# we can also check that this age_median column has no null values\n",
    "df['age_median'].isnull().sum()"
   ]
  },
  {
   "cell_type": "markdown",
   "id": "fe2c66f9-dbb7-4491-92ae-daae8c0a0b18",
   "metadata": {},
   "source": [
    "**MODE VALUE IMPUTATION**\n",
    "<br>\n",
    "It works well when we have categorical data"
   ]
  },
  {
   "cell_type": "code",
   "execution_count": 19,
   "id": "8bf967a8-4707-4855-8dca-b3a98971afbb",
   "metadata": {},
   "outputs": [
    {
     "data": {
      "text/html": [
       "<div>\n",
       "<style scoped>\n",
       "    .dataframe tbody tr th:only-of-type {\n",
       "        vertical-align: middle;\n",
       "    }\n",
       "\n",
       "    .dataframe tbody tr th {\n",
       "        vertical-align: top;\n",
       "    }\n",
       "\n",
       "    .dataframe thead th {\n",
       "        text-align: right;\n",
       "    }\n",
       "</style>\n",
       "<table border=\"1\" class=\"dataframe\">\n",
       "  <thead>\n",
       "    <tr style=\"text-align: right;\">\n",
       "      <th></th>\n",
       "      <th>survived</th>\n",
       "      <th>pclass</th>\n",
       "      <th>sex</th>\n",
       "      <th>age</th>\n",
       "      <th>sibsp</th>\n",
       "      <th>parch</th>\n",
       "      <th>fare</th>\n",
       "      <th>embarked</th>\n",
       "      <th>class</th>\n",
       "      <th>who</th>\n",
       "      <th>adult_male</th>\n",
       "      <th>deck</th>\n",
       "      <th>embark_town</th>\n",
       "      <th>alive</th>\n",
       "      <th>alone</th>\n",
       "      <th>age_mean</th>\n",
       "      <th>age_median</th>\n",
       "    </tr>\n",
       "  </thead>\n",
       "  <tbody>\n",
       "    <tr>\n",
       "      <th>0</th>\n",
       "      <td>0</td>\n",
       "      <td>3</td>\n",
       "      <td>male</td>\n",
       "      <td>22.0</td>\n",
       "      <td>1</td>\n",
       "      <td>0</td>\n",
       "      <td>7.2500</td>\n",
       "      <td>S</td>\n",
       "      <td>Third</td>\n",
       "      <td>man</td>\n",
       "      <td>True</td>\n",
       "      <td>NaN</td>\n",
       "      <td>Southampton</td>\n",
       "      <td>no</td>\n",
       "      <td>False</td>\n",
       "      <td>22.000000</td>\n",
       "      <td>22.0</td>\n",
       "    </tr>\n",
       "    <tr>\n",
       "      <th>1</th>\n",
       "      <td>1</td>\n",
       "      <td>1</td>\n",
       "      <td>female</td>\n",
       "      <td>38.0</td>\n",
       "      <td>1</td>\n",
       "      <td>0</td>\n",
       "      <td>71.2833</td>\n",
       "      <td>C</td>\n",
       "      <td>First</td>\n",
       "      <td>woman</td>\n",
       "      <td>False</td>\n",
       "      <td>C</td>\n",
       "      <td>Cherbourg</td>\n",
       "      <td>yes</td>\n",
       "      <td>False</td>\n",
       "      <td>38.000000</td>\n",
       "      <td>38.0</td>\n",
       "    </tr>\n",
       "    <tr>\n",
       "      <th>2</th>\n",
       "      <td>1</td>\n",
       "      <td>3</td>\n",
       "      <td>female</td>\n",
       "      <td>26.0</td>\n",
       "      <td>0</td>\n",
       "      <td>0</td>\n",
       "      <td>7.9250</td>\n",
       "      <td>S</td>\n",
       "      <td>Third</td>\n",
       "      <td>woman</td>\n",
       "      <td>False</td>\n",
       "      <td>NaN</td>\n",
       "      <td>Southampton</td>\n",
       "      <td>yes</td>\n",
       "      <td>True</td>\n",
       "      <td>26.000000</td>\n",
       "      <td>26.0</td>\n",
       "    </tr>\n",
       "    <tr>\n",
       "      <th>3</th>\n",
       "      <td>1</td>\n",
       "      <td>1</td>\n",
       "      <td>female</td>\n",
       "      <td>35.0</td>\n",
       "      <td>1</td>\n",
       "      <td>0</td>\n",
       "      <td>53.1000</td>\n",
       "      <td>S</td>\n",
       "      <td>First</td>\n",
       "      <td>woman</td>\n",
       "      <td>False</td>\n",
       "      <td>C</td>\n",
       "      <td>Southampton</td>\n",
       "      <td>yes</td>\n",
       "      <td>False</td>\n",
       "      <td>35.000000</td>\n",
       "      <td>35.0</td>\n",
       "    </tr>\n",
       "    <tr>\n",
       "      <th>4</th>\n",
       "      <td>0</td>\n",
       "      <td>3</td>\n",
       "      <td>male</td>\n",
       "      <td>35.0</td>\n",
       "      <td>0</td>\n",
       "      <td>0</td>\n",
       "      <td>8.0500</td>\n",
       "      <td>S</td>\n",
       "      <td>Third</td>\n",
       "      <td>man</td>\n",
       "      <td>True</td>\n",
       "      <td>NaN</td>\n",
       "      <td>Southampton</td>\n",
       "      <td>no</td>\n",
       "      <td>True</td>\n",
       "      <td>35.000000</td>\n",
       "      <td>35.0</td>\n",
       "    </tr>\n",
       "    <tr>\n",
       "      <th>5</th>\n",
       "      <td>0</td>\n",
       "      <td>3</td>\n",
       "      <td>male</td>\n",
       "      <td>NaN</td>\n",
       "      <td>0</td>\n",
       "      <td>0</td>\n",
       "      <td>8.4583</td>\n",
       "      <td>Q</td>\n",
       "      <td>Third</td>\n",
       "      <td>man</td>\n",
       "      <td>True</td>\n",
       "      <td>NaN</td>\n",
       "      <td>Queenstown</td>\n",
       "      <td>no</td>\n",
       "      <td>True</td>\n",
       "      <td>29.699118</td>\n",
       "      <td>28.0</td>\n",
       "    </tr>\n",
       "    <tr>\n",
       "      <th>6</th>\n",
       "      <td>0</td>\n",
       "      <td>1</td>\n",
       "      <td>male</td>\n",
       "      <td>54.0</td>\n",
       "      <td>0</td>\n",
       "      <td>0</td>\n",
       "      <td>51.8625</td>\n",
       "      <td>S</td>\n",
       "      <td>First</td>\n",
       "      <td>man</td>\n",
       "      <td>True</td>\n",
       "      <td>E</td>\n",
       "      <td>Southampton</td>\n",
       "      <td>no</td>\n",
       "      <td>True</td>\n",
       "      <td>54.000000</td>\n",
       "      <td>54.0</td>\n",
       "    </tr>\n",
       "    <tr>\n",
       "      <th>7</th>\n",
       "      <td>0</td>\n",
       "      <td>3</td>\n",
       "      <td>male</td>\n",
       "      <td>2.0</td>\n",
       "      <td>3</td>\n",
       "      <td>1</td>\n",
       "      <td>21.0750</td>\n",
       "      <td>S</td>\n",
       "      <td>Third</td>\n",
       "      <td>child</td>\n",
       "      <td>False</td>\n",
       "      <td>NaN</td>\n",
       "      <td>Southampton</td>\n",
       "      <td>no</td>\n",
       "      <td>False</td>\n",
       "      <td>2.000000</td>\n",
       "      <td>2.0</td>\n",
       "    </tr>\n",
       "    <tr>\n",
       "      <th>8</th>\n",
       "      <td>1</td>\n",
       "      <td>3</td>\n",
       "      <td>female</td>\n",
       "      <td>27.0</td>\n",
       "      <td>0</td>\n",
       "      <td>2</td>\n",
       "      <td>11.1333</td>\n",
       "      <td>S</td>\n",
       "      <td>Third</td>\n",
       "      <td>woman</td>\n",
       "      <td>False</td>\n",
       "      <td>NaN</td>\n",
       "      <td>Southampton</td>\n",
       "      <td>yes</td>\n",
       "      <td>False</td>\n",
       "      <td>27.000000</td>\n",
       "      <td>27.0</td>\n",
       "    </tr>\n",
       "    <tr>\n",
       "      <th>9</th>\n",
       "      <td>1</td>\n",
       "      <td>2</td>\n",
       "      <td>female</td>\n",
       "      <td>14.0</td>\n",
       "      <td>1</td>\n",
       "      <td>0</td>\n",
       "      <td>30.0708</td>\n",
       "      <td>C</td>\n",
       "      <td>Second</td>\n",
       "      <td>child</td>\n",
       "      <td>False</td>\n",
       "      <td>NaN</td>\n",
       "      <td>Cherbourg</td>\n",
       "      <td>yes</td>\n",
       "      <td>False</td>\n",
       "      <td>14.000000</td>\n",
       "      <td>14.0</td>\n",
       "    </tr>\n",
       "  </tbody>\n",
       "</table>\n",
       "</div>"
      ],
      "text/plain": [
       "   survived  pclass     sex   age  sibsp  parch     fare embarked   class  \\\n",
       "0         0       3    male  22.0      1      0   7.2500        S   Third   \n",
       "1         1       1  female  38.0      1      0  71.2833        C   First   \n",
       "2         1       3  female  26.0      0      0   7.9250        S   Third   \n",
       "3         1       1  female  35.0      1      0  53.1000        S   First   \n",
       "4         0       3    male  35.0      0      0   8.0500        S   Third   \n",
       "5         0       3    male   NaN      0      0   8.4583        Q   Third   \n",
       "6         0       1    male  54.0      0      0  51.8625        S   First   \n",
       "7         0       3    male   2.0      3      1  21.0750        S   Third   \n",
       "8         1       3  female  27.0      0      2  11.1333        S   Third   \n",
       "9         1       2  female  14.0      1      0  30.0708        C  Second   \n",
       "\n",
       "     who  adult_male deck  embark_town alive  alone   age_mean  age_median  \n",
       "0    man        True  NaN  Southampton    no  False  22.000000        22.0  \n",
       "1  woman       False    C    Cherbourg   yes  False  38.000000        38.0  \n",
       "2  woman       False  NaN  Southampton   yes   True  26.000000        26.0  \n",
       "3  woman       False    C  Southampton   yes  False  35.000000        35.0  \n",
       "4    man        True  NaN  Southampton    no   True  35.000000        35.0  \n",
       "5    man        True  NaN   Queenstown    no   True  29.699118        28.0  \n",
       "6    man        True    E  Southampton    no   True  54.000000        54.0  \n",
       "7  child       False  NaN  Southampton    no  False   2.000000         2.0  \n",
       "8  woman       False  NaN  Southampton   yes  False  27.000000        27.0  \n",
       "9  child       False  NaN    Cherbourg   yes  False  14.000000        14.0  "
      ]
     },
     "execution_count": 19,
     "metadata": {},
     "output_type": "execute_result"
    }
   ],
   "source": [
    "df.head(10)"
   ]
  },
  {
   "cell_type": "code",
   "execution_count": 20,
   "id": "bd7fab3b-03e4-4fab-817c-2bc281c7d2de",
   "metadata": {},
   "outputs": [
    {
     "data": {
      "text/html": [
       "<div>\n",
       "<style scoped>\n",
       "    .dataframe tbody tr th:only-of-type {\n",
       "        vertical-align: middle;\n",
       "    }\n",
       "\n",
       "    .dataframe tbody tr th {\n",
       "        vertical-align: top;\n",
       "    }\n",
       "\n",
       "    .dataframe thead th {\n",
       "        text-align: right;\n",
       "    }\n",
       "</style>\n",
       "<table border=\"1\" class=\"dataframe\">\n",
       "  <thead>\n",
       "    <tr style=\"text-align: right;\">\n",
       "      <th></th>\n",
       "      <th>survived</th>\n",
       "      <th>pclass</th>\n",
       "      <th>sex</th>\n",
       "      <th>age</th>\n",
       "      <th>sibsp</th>\n",
       "      <th>parch</th>\n",
       "      <th>fare</th>\n",
       "      <th>embarked</th>\n",
       "      <th>class</th>\n",
       "      <th>who</th>\n",
       "      <th>adult_male</th>\n",
       "      <th>deck</th>\n",
       "      <th>embark_town</th>\n",
       "      <th>alive</th>\n",
       "      <th>alone</th>\n",
       "      <th>age_mean</th>\n",
       "      <th>age_median</th>\n",
       "    </tr>\n",
       "  </thead>\n",
       "  <tbody>\n",
       "    <tr>\n",
       "      <th>61</th>\n",
       "      <td>1</td>\n",
       "      <td>1</td>\n",
       "      <td>female</td>\n",
       "      <td>38.0</td>\n",
       "      <td>0</td>\n",
       "      <td>0</td>\n",
       "      <td>80.0</td>\n",
       "      <td>NaN</td>\n",
       "      <td>First</td>\n",
       "      <td>woman</td>\n",
       "      <td>False</td>\n",
       "      <td>B</td>\n",
       "      <td>NaN</td>\n",
       "      <td>yes</td>\n",
       "      <td>True</td>\n",
       "      <td>38.0</td>\n",
       "      <td>38.0</td>\n",
       "    </tr>\n",
       "    <tr>\n",
       "      <th>829</th>\n",
       "      <td>1</td>\n",
       "      <td>1</td>\n",
       "      <td>female</td>\n",
       "      <td>62.0</td>\n",
       "      <td>0</td>\n",
       "      <td>0</td>\n",
       "      <td>80.0</td>\n",
       "      <td>NaN</td>\n",
       "      <td>First</td>\n",
       "      <td>woman</td>\n",
       "      <td>False</td>\n",
       "      <td>B</td>\n",
       "      <td>NaN</td>\n",
       "      <td>yes</td>\n",
       "      <td>True</td>\n",
       "      <td>62.0</td>\n",
       "      <td>62.0</td>\n",
       "    </tr>\n",
       "  </tbody>\n",
       "</table>\n",
       "</div>"
      ],
      "text/plain": [
       "     survived  pclass     sex   age  sibsp  parch  fare embarked  class  \\\n",
       "61          1       1  female  38.0      0      0  80.0      NaN  First   \n",
       "829         1       1  female  62.0      0      0  80.0      NaN  First   \n",
       "\n",
       "       who  adult_male deck embark_town alive  alone  age_mean  age_median  \n",
       "61   woman       False    B         NaN   yes   True      38.0        38.0  \n",
       "829  woman       False    B         NaN   yes   True      62.0        62.0  "
      ]
     },
     "execution_count": 20,
     "metadata": {},
     "output_type": "execute_result"
    }
   ],
   "source": [
    "# observe the embared column have categorical values and nulls also\n",
    "df[df['embarked'].isnull()]"
   ]
  },
  {
   "cell_type": "code",
   "execution_count": 21,
   "id": "581d67e0-039c-4199-902c-9574529c3a51",
   "metadata": {},
   "outputs": [],
   "source": [
    "# it is good to fill these values with mode of the respective column\n",
    "# creating new column\n",
    "df['embarked_mode']=df['embarked'].fillna(df['embarked'].mode())"
   ]
  },
  {
   "cell_type": "code",
   "execution_count": 22,
   "id": "e7fa9f83-d088-421b-bbfd-b86910bf36d2",
   "metadata": {},
   "outputs": [
    {
     "data": {
      "text/plain": [
       "<seaborn.axisgrid.FacetGrid at 0x7f6134174be0>"
      ]
     },
     "execution_count": 22,
     "metadata": {},
     "output_type": "execute_result"
    },
    {
     "data": {
      "image/png": "[encoded data removed]",
      "text/plain": [
       "<Figure size 500x500 with 1 Axes>"
      ]
     },
     "metadata": {},
     "output_type": "display_data"
    }
   ],
   "source": [
    "sns.displot(df['embarked_mode'])"
   ]
  },
  {
   "cell_type": "markdown",
   "id": "74c1dc53-6d6c-4d62-ad9e-e067b044cf4b",
   "metadata": {},
   "source": [
    "**Forward/Backward Fill**"
   ]
  },
  {
   "cell_type": "code",
   "execution_count": 23,
   "id": "f3e0ff46-85b0-46b5-8229-aa2f606e84c3",
   "metadata": {},
   "outputs": [
    {
     "name": "stdout",
     "output_type": "stream",
     "text": [
      "     A    B     C\n",
      "0  1.0  5.0   9.0\n",
      "1  2.0  5.0  10.0\n",
      "2  2.0  5.0  11.0\n",
      "3  4.0  8.0  11.0\n"
     ]
    }
   ],
   "source": [
    "df = pd.DataFrame({\n",
    "    'A': [1, 2, None, 4],\n",
    "    'B': [5, None, None, 8],\n",
    "    'C': [9, 10, 11, None]\n",
    "})\n",
    "\n",
    "# Forward Fill\n",
    "df_forward_fill = df.fillna(method='ffill')\n",
    "print(df_forward_fill)"
   ]
  },
  {
   "cell_type": "markdown",
   "id": "111bc918-fef6-4542-acd7-ec6e37392034",
   "metadata": {},
   "source": [
    "**K-Nearest Neighbors (KNN) Imputation**"
   ]
  },
  {
   "cell_type": "code",
   "execution_count": 24,
   "id": "67df716d-9de7-4b1d-a425-cafa5f56c166",
   "metadata": {},
   "outputs": [
    {
     "name": "stdout",
     "output_type": "stream",
     "text": [
      "     A    B     C\n",
      "0  1.0  5.0   9.0\n",
      "1  2.0  6.5  10.0\n",
      "2  1.5  6.5  11.0\n",
      "3  4.0  8.0   9.5\n"
     ]
    }
   ],
   "source": [
    "import pandas as p\n",
    "from sklearn.impute import KNNImputer\n",
    "\n",
    "# Example DataFrame\n",
    "df = pd.DataFrame({\n",
    "    'A': [1, 2, None, 4],\n",
    "    'B': [5, None, None, 8],\n",
    "    'C': [9, 10, 11, None]\n",
    "})\n",
    "\n",
    "# KNN Imputation\n",
    "knn_imputer = KNNImputer(n_neighbors=2)\n",
    "df_knn_imputed = pd.DataFrame(knn_imputer.fit_transform(df), columns=df.columns)\n",
    "print(df_knn_imputed)"
   ]
  },
  {
   "cell_type": "markdown",
   "id": "a8f2b820-33cd-44d9-a578-cec2e8f1f081",
   "metadata": {},
   "source": [
    "### Q3: Explain the imbalanced data. What will happen if imbalanced data is not handled?\n",
    "\n",
    "**Imbalanced Data:**\n",
    "\n",
    "Imbalanced data occurs when the classes in a classification dataset are not represented equally. Typically, one class (often the minority class) has significantly fewer instances than the other class (majority class).<br> For example, in a dataset for fraud detection, fraudulent transactions (minority class) might be much less frequent than non-fraudulent transactions (majority class).\n",
    "\n",
    "**Consequences of Not Handling Imbalanced Data:**\n",
    "\n",
    "1. **Bias Towards Majority Class:** Machine learning models can become biased towards the majority class because they are trained on more instances of that class. This can result in the model predominantly predicting the majority class, ignoring the minority class.\n",
    "\n",
    "2. **Poor Predictive Performance:** Metrics such as accuracy can be misleading in imbalanced datasets. A model might achieve high accuracy by simply predicting the majority class all the time, but this would be ineffective for identifying the minority class.\n",
    "\n",
    "3. **Misleading Evaluation Metrics:** Common metrics like accuracy do not reflect the true performance of the model on imbalanced data. More appropriate metrics like precision, recall, F1-score, or area under the ROC curve (AUC-ROC) should be used to evaluate models.\n",
    "\n",
    "4. **Underrepresentation of Minority Class:** The minority class might be underrepresented in the training process, leading to poor generalization and detection of this class in real-world scenarios.\n",
    "\n",
    "**Handling Imbalanced Data:**\n",
    "\n",
    "1. **Resampling Techniques:**\n",
    "   - **Oversampling the Minority Class:** Increase the number of instances in the minority class by duplicating samples or creating synthetic examples (e.g., SMOTE - Synthetic Minority Over-sampling Technique).\n",
    "   - **Undersampling the Majority Class:** Reduce the number of instances in the majority class to balance the class distribution.\n",
    "\n",
    "2. **Algorithmic Approaches:**\n",
    "   - **Cost-sensitive Learning:** Modify the learning algorithm to give more importance (or higher cost) to misclassifications of the minority class.\n",
    "   - **Anomaly Detection:** Treat the minority class as anomalies or outliers and use anomaly detection techniques to identify them.\n",
    "\n",
    "3. **Ensemble Methods:**\n",
    "   - **Balanced Random Forest:** Combine multiple decision trees trained on balanced subsets of the data.\n",
    "   - **Boosting Algorithms:** Use algorithms like AdaBoost or XGBoost that focus on improving the classification of difficult instances, often from the minority class.\n",
    "\n",
    "4. **Evaluation Metrics:**\n",
    "   - Use metrics like precision, recall, F1-score, AUC-ROC, and confusion matrices to evaluate the model's performance on imbalanced data."
   ]
  },
  {
   "cell_type": "markdown",
   "id": "0c868a8c-42ff-409b-a225-8ccec0ce0e5b",
   "metadata": {},
   "source": [
    "### Q4: What are Up-sampling and Down-sampling? Explain with an example when up-sampling and downsampling are required.\n",
    "\n",
    "**Up-sampling and Down-sampling:**\n",
    "\n",
    "**Up-sampling (Over-sampling):**\n",
    "Up-sampling involves increasing the number of instances in the minority class to balance the class distribution. This can be done by duplicating existing minority class samples or generating synthetic samples.\n",
    "\n",
    "**Down-sampling (Under-sampling):**\n",
    "Down-sampling involves decreasing the number of instances in the majority class to balance the class distribution. This is done by randomly removing samples from the majority class.\n",
    "\n",
    "**When Up-sampling and Down-sampling are Required:**\n",
    "\n",
    "**Example Scenario: Fraud Detection**\n",
    "\n",
    "Suppose you have a dataset for fraud detection with 100,000 transactions, where only 1,000 are fraudulent (minority class) and 99,000 are non-fraudulent (majority class). This is a highly imbalanced dataset.\n",
    "\n",
    "**When to Use Each Method:**\n",
    "\n",
    "- **Up-sampling:**\n",
    "  - When the minority class has very few instances, making it difficult for the model to learn.\n",
    "  - When preserving all majority class instances is important.\n",
    "  - When computational resources are not a constraint.\n",
    "\n",
    "- **Down-sampling:**\n",
    "  - When the dataset is extremely large, and training on the full dataset is computationally expensive.\n",
    "  - When you want to reduce the influence of the majority class on the model.\n",
    "  - When you want to ensure faster training times."
   ]
  },
  {
   "cell_type": "markdown",
   "id": "1f57eebc-a540-4869-b365-3a0f0f5fff0b",
   "metadata": {},
   "source": [
    "**UP-SAMPLING & DOWN-SAMPLING EXAMPLE**"
   ]
  },
  {
   "cell_type": "code",
   "execution_count": 25,
   "id": "f1d333ba-7a95-4737-8dab-a96496ad5557",
   "metadata": {},
   "outputs": [],
   "source": [
    "# creating an imbalanced dataset\n",
    "import numpy as np\n",
    "import pandas as pd\n",
    "\n",
    "sample_size=1000\n",
    "class_0_ratio=0.9  #90%\n",
    "n_class_0 = int(sample_size*class_0_ratio)\n",
    "n_class_1 = sample_size-n_class_0\n",
    "\n",
    "\n",
    "np.random.seed(5)\n",
    "\n",
    "df_0 = pd.DataFrame(\n",
    "    {'Feature_1' : np.random.normal(loc=1, scale=1, size= n_class_0),\n",
    "     'Feature_2' : np.random.normal(loc=1, scale=1, size=n_class_0),\n",
    "     'target' : [0] * n_class_0\n",
    "})\n",
    "\n",
    "df_1 = pd.DataFrame({\n",
    "    'Feature_1' : np.random.normal(loc=2, scale=1, size=n_class_1),\n",
    "    'Feature_2' : np.random.normal(loc=2, scale=1, size=n_class_1),\n",
    "    'target' : [1]*n_class_1\n",
    "})\n",
    "\n",
    "df=pd.concat([df_0,df_1]).reset_index(drop=True)\n"
   ]
  },
  {
   "cell_type": "code",
   "execution_count": 26,
   "id": "e1d51b7b-621c-466f-8a76-64a6fc5b9b62",
   "metadata": {},
   "outputs": [
    {
     "name": "stdout",
     "output_type": "stream",
     "text": [
      "   Feature_1  Feature_2  target\n",
      "0   1.441227  -0.646011       0\n",
      "1   0.669130  -0.793660       0\n",
      "2   3.430771   0.020661       0\n",
      "3   0.747908  -0.010608       0\n",
      "4   1.109610   0.388915       0\n",
      "     Feature_1  Feature_2  target\n",
      "995   0.269427   3.391913       1\n",
      "996   2.275679   2.620613       1\n",
      "997   1.066230   2.704233       1\n",
      "998   1.434105   0.814266       1\n",
      "999   1.709118  -1.507475       1\n"
     ]
    }
   ],
   "source": [
    "print(df.head())\n",
    "print(df.tail())"
   ]
  },
  {
   "cell_type": "code",
   "execution_count": 27,
   "id": "28a05b27-d2d4-4103-9790-b3f9ae5817a7",
   "metadata": {},
   "outputs": [
    {
     "data": {
      "text/plain": [
       "0    900\n",
       "1    100\n",
       "Name: target, dtype: int64"
      ]
     },
     "execution_count": 27,
     "metadata": {},
     "output_type": "execute_result"
    }
   ],
   "source": [
    "# imbalanced dataset\n",
    "df['target'].value_counts()"
   ]
  },
  {
   "cell_type": "markdown",
   "id": "da0e7adc-c58d-420d-90a0-56ae6a8f882a",
   "metadata": {},
   "source": [
    "**up-sampling**"
   ]
  },
  {
   "cell_type": "code",
   "execution_count": 28,
   "id": "db451ea9-58f8-4983-b694-0ae88d8d8e62",
   "metadata": {},
   "outputs": [
    {
     "data": {
      "text/html": [
       "<div>\n",
       "<style scoped>\n",
       "    .dataframe tbody tr th:only-of-type {\n",
       "        vertical-align: middle;\n",
       "    }\n",
       "\n",
       "    .dataframe tbody tr th {\n",
       "        vertical-align: top;\n",
       "    }\n",
       "\n",
       "    .dataframe thead th {\n",
       "        text-align: right;\n",
       "    }\n",
       "</style>\n",
       "<table border=\"1\" class=\"dataframe\">\n",
       "  <thead>\n",
       "    <tr style=\"text-align: right;\">\n",
       "      <th></th>\n",
       "      <th>Feature_1</th>\n",
       "      <th>Feature_2</th>\n",
       "      <th>target</th>\n",
       "    </tr>\n",
       "  </thead>\n",
       "  <tbody>\n",
       "    <tr>\n",
       "      <th>904</th>\n",
       "      <td>3.309688</td>\n",
       "      <td>1.688726</td>\n",
       "      <td>1</td>\n",
       "    </tr>\n",
       "    <tr>\n",
       "      <th>944</th>\n",
       "      <td>2.099713</td>\n",
       "      <td>1.940227</td>\n",
       "      <td>1</td>\n",
       "    </tr>\n",
       "    <tr>\n",
       "      <th>964</th>\n",
       "      <td>1.933189</td>\n",
       "      <td>1.314019</td>\n",
       "      <td>1</td>\n",
       "    </tr>\n",
       "    <tr>\n",
       "      <th>984</th>\n",
       "      <td>1.909941</td>\n",
       "      <td>3.081069</td>\n",
       "      <td>1</td>\n",
       "    </tr>\n",
       "    <tr>\n",
       "      <th>908</th>\n",
       "      <td>3.122819</td>\n",
       "      <td>2.562201</td>\n",
       "      <td>1</td>\n",
       "    </tr>\n",
       "  </tbody>\n",
       "</table>\n",
       "</div>"
      ],
      "text/plain": [
       "     Feature_1  Feature_2  target\n",
       "904   3.309688   1.688726       1\n",
       "944   2.099713   1.940227       1\n",
       "964   1.933189   1.314019       1\n",
       "984   1.909941   3.081069       1\n",
       "908   3.122819   2.562201       1"
      ]
     },
     "execution_count": 28,
     "metadata": {},
     "output_type": "execute_result"
    }
   ],
   "source": [
    "# first we have to divide both datasets into two groups ( for e.g. majority and minority)\n",
    "df_majority = df[df['target']==0]\n",
    "df_minority = df[df['target']==1]\n",
    "\n",
    "\n",
    "from sklearn.utils import resample\n",
    "\n",
    "df_upsampled_minority = resample(\n",
    "                                df_minority,  # dataframe to be upsampled\n",
    "                                replace=True, \n",
    "                                n_samples=len(df_majority),\n",
    "                                random_state=22\n",
    "                                )\n",
    "df_upsampled_minority.head()"
   ]
  },
  {
   "cell_type": "code",
   "execution_count": 29,
   "id": "616e531b-b326-4f63-8ce7-434edfe33216",
   "metadata": {},
   "outputs": [
    {
     "data": {
      "text/plain": [
       "(900, 3)"
      ]
     },
     "execution_count": 29,
     "metadata": {},
     "output_type": "execute_result"
    }
   ],
   "source": [
    "df_upsampled_minority.shape"
   ]
  },
  {
   "cell_type": "code",
   "execution_count": 30,
   "id": "7635bb66-9371-4d38-b58b-bda0a78d5866",
   "metadata": {},
   "outputs": [
    {
     "name": "stdout",
     "output_type": "stream",
     "text": [
      "total datapoints :  1800\n"
     ]
    },
    {
     "data": {
      "text/plain": [
       "0    900\n",
       "1    900\n",
       "Name: target, dtype: int64"
      ]
     },
     "execution_count": 30,
     "metadata": {},
     "output_type": "execute_result"
    }
   ],
   "source": [
    "# finally merging the dataframe into 1\n",
    "df_upsampled= pd.concat([df_majority,df_upsampled_minority]).reset_index(drop=True)\n",
    "\n",
    "# final upscaled_dataset\n",
    "print('total datapoints : ',len(df_upsampled))\n",
    "\n",
    "df_upsampled['target'].value_counts()"
   ]
  },
  {
   "cell_type": "markdown",
   "id": "aeba93e0-4028-4d32-a0a8-34ee635a144e",
   "metadata": {},
   "source": [
    "**down-sampling**"
   ]
  },
  {
   "cell_type": "code",
   "execution_count": 31,
   "id": "ed189ebc-1618-4cd6-8dc3-ae8a99533545",
   "metadata": {},
   "outputs": [
    {
     "data": {
      "text/html": [
       "<div>\n",
       "<style scoped>\n",
       "    .dataframe tbody tr th:only-of-type {\n",
       "        vertical-align: middle;\n",
       "    }\n",
       "\n",
       "    .dataframe tbody tr th {\n",
       "        vertical-align: top;\n",
       "    }\n",
       "\n",
       "    .dataframe thead th {\n",
       "        text-align: right;\n",
       "    }\n",
       "</style>\n",
       "<table border=\"1\" class=\"dataframe\">\n",
       "  <thead>\n",
       "    <tr style=\"text-align: right;\">\n",
       "      <th></th>\n",
       "      <th>Feature_1</th>\n",
       "      <th>Feature_2</th>\n",
       "      <th>target</th>\n",
       "    </tr>\n",
       "  </thead>\n",
       "  <tbody>\n",
       "    <tr>\n",
       "      <th>20</th>\n",
       "      <td>0.019392</td>\n",
       "      <td>0.953824</td>\n",
       "      <td>0</td>\n",
       "    </tr>\n",
       "    <tr>\n",
       "      <th>391</th>\n",
       "      <td>-0.731054</td>\n",
       "      <td>0.289134</td>\n",
       "      <td>0</td>\n",
       "    </tr>\n",
       "    <tr>\n",
       "      <th>728</th>\n",
       "      <td>2.001061</td>\n",
       "      <td>1.164572</td>\n",
       "      <td>0</td>\n",
       "    </tr>\n",
       "    <tr>\n",
       "      <th>578</th>\n",
       "      <td>1.282994</td>\n",
       "      <td>2.130381</td>\n",
       "      <td>0</td>\n",
       "    </tr>\n",
       "    <tr>\n",
       "      <th>658</th>\n",
       "      <td>-1.229461</td>\n",
       "      <td>2.366257</td>\n",
       "      <td>0</td>\n",
       "    </tr>\n",
       "  </tbody>\n",
       "</table>\n",
       "</div>"
      ],
      "text/plain": [
       "     Feature_1  Feature_2  target\n",
       "20    0.019392   0.953824       0\n",
       "391  -0.731054   0.289134       0\n",
       "728   2.001061   1.164572       0\n",
       "578   1.282994   2.130381       0\n",
       "658  -1.229461   2.366257       0"
      ]
     },
     "execution_count": 31,
     "metadata": {},
     "output_type": "execute_result"
    }
   ],
   "source": [
    "# we have two datasets namely \n",
    "# df_majority  &  df_minority\n",
    "\n",
    "df_downsampled_majority = resample(\n",
    "                          df_majority,\n",
    "                          replace=True,\n",
    "                          n_samples=len(df_minority),\n",
    "                          random_state=33\n",
    "                          )\n",
    "df_downsampled_majority.head()"
   ]
  },
  {
   "cell_type": "code",
   "execution_count": 32,
   "id": "7964a488-947f-4573-a95d-2a96fc1bd856",
   "metadata": {},
   "outputs": [
    {
     "data": {
      "text/plain": [
       "(100, 3)"
      ]
     },
     "execution_count": 32,
     "metadata": {},
     "output_type": "execute_result"
    }
   ],
   "source": [
    "df_downsampled_majority.shape"
   ]
  },
  {
   "cell_type": "code",
   "execution_count": 33,
   "id": "51f1d6a7-4b53-4cb7-b570-0db2659ae4b2",
   "metadata": {},
   "outputs": [
    {
     "name": "stdout",
     "output_type": "stream",
     "text": [
      "total datapoints :  200\n"
     ]
    },
    {
     "data": {
      "text/plain": [
       "0    100\n",
       "1    100\n",
       "Name: target, dtype: int64"
      ]
     },
     "execution_count": 33,
     "metadata": {},
     "output_type": "execute_result"
    }
   ],
   "source": [
    "# merging into one down-sampleded dataset\n",
    "df_downsampled = pd.concat([df_downsampled_majority,df_minority]).reset_index(drop=True)\n",
    "\n",
    "# final downscaled_dataset\n",
    "print('total datapoints : ',len(df_downsampled))\n",
    "\n",
    "df_downsampled['target'].value_counts()"
   ]
  },
  {
   "cell_type": "markdown",
   "id": "3bd58ca4-ed38-491a-9bef-0dce8ff2c2f2",
   "metadata": {},
   "source": [
    "### Q5: What is data Augmentation? Explain SMOTE.\n",
    "\n",
    "**Data Augmentation:**\n",
    "\n",
    "Data augmentation refers to techniques used to increase the diversity and size of a dataset without actually collecting new data. It is often used in machine learning, especially in image and text data, to improve model generalization and performance. In the context of imbalanced datasets, data augmentation methods like SMOTE (Synthetic Minority Over-sampling Technique) are commonly used to balance the class distribution.\n",
    "\n",
    "**SMOTE (Synthetic Minority Over-sampling Technique):**\n",
    "\n",
    "SMOTE is a popular data augmentation technique specifically designed to address class imbalance in datasets. It generates synthetic examples of the minority class by interpolating between existing minority class instances. This helps to balance the dataset and improve the performance of machine learning models.\n",
    "\n",
    "**How SMOTE Works:**\n",
    "\n",
    "1. **Select Minority Class Instances:** Identify the instances of the minority class in the dataset.\n",
    "2. **Find Nearest Neighbors:** For each minority class instance, find its k-nearest neighbors (typically using Euclidean distance).\n",
    "3. **Generate Synthetic Instances:** Randomly select one or more of the k-nearest neighbors and create synthetic instances by interpolating between the selected minority class instance and its neighbors. This is done by taking a random point along the line segment joining the two instances."
   ]
  },
  {
   "cell_type": "code",
   "execution_count": 34,
   "id": "76d22c3d-fd62-4c27-9a77-9bb3a7cefe98",
   "metadata": {},
   "outputs": [],
   "source": [
    "from sklearn.datasets import make_classification\n",
    "\n",
    "# Generating a synthetic dataset\n",
    "x, y = make_classification(\n",
    "    n_samples=1000,          # Total number of samples (rows) to generate\n",
    "    n_redundant=0,           # Number of redundant features, which are linear combinations of the informative features\n",
    "    n_features=2,            # Total number of features (columns) to generate\n",
    "    n_clusters_per_class=1,  # Number of clusters per class\n",
    "    weights=[0.90],          # Proportion of samples assigned to each class, in this case, 90% to one class and 10% to the other\n",
    "    random_state=12          # Seed for random number generation to ensure reproducibility\n",
    ")"
   ]
  },
  {
   "cell_type": "code",
   "execution_count": 35,
   "id": "80c589d3-e30b-4033-a1d8-82f431934218",
   "metadata": {},
   "outputs": [
    {
     "name": "stdout",
     "output_type": "stream",
     "text": [
      "(1000, 2)\n",
      "1000\n",
      "900\n",
      "100\n"
     ]
    }
   ],
   "source": [
    "print(x.shape)\n",
    "print(len(y))\n",
    "print(len(y[y==0]))\n",
    "print(len(y[y==1]))"
   ]
  },
  {
   "cell_type": "code",
   "execution_count": 36,
   "id": "fa7f8a3d-e8f3-420b-b55e-d09a13933f71",
   "metadata": {},
   "outputs": [
    {
     "name": "stdout",
     "output_type": "stream",
     "text": [
      "[-0.76289759 -0.70680807]\n",
      "[-1.07543571 -1.0511621 ]\n",
      "[-0.61011459 -0.90980157]\n",
      "[-2.02328392 -0.42894472]\n",
      "[-0.81292105 -1.31620563]\n"
     ]
    }
   ],
   "source": [
    "i=0\n",
    "while i<5:\n",
    "    print(x[i])\n",
    "    i+=1"
   ]
  },
  {
   "cell_type": "code",
   "execution_count": 37,
   "id": "8d9cf041-aa05-45bb-b8ba-80b833045946",
   "metadata": {},
   "outputs": [
    {
     "name": "stdout",
     "output_type": "stream",
     "text": [
      "0\n",
      "0\n",
      "0\n",
      "1\n",
      "0\n"
     ]
    }
   ],
   "source": [
    "i=0\n",
    "while i<5:\n",
    "    print(y[i])\n",
    "    i+=1"
   ]
  },
  {
   "cell_type": "code",
   "execution_count": 38,
   "id": "c0333224-0158-4559-a178-37a853e7528f",
   "metadata": {},
   "outputs": [
    {
     "data": {
      "text/html": [
       "<div>\n",
       "<style scoped>\n",
       "    .dataframe tbody tr th:only-of-type {\n",
       "        vertical-align: middle;\n",
       "    }\n",
       "\n",
       "    .dataframe tbody tr th {\n",
       "        vertical-align: top;\n",
       "    }\n",
       "\n",
       "    .dataframe thead th {\n",
       "        text-align: right;\n",
       "    }\n",
       "</style>\n",
       "<table border=\"1\" class=\"dataframe\">\n",
       "  <thead>\n",
       "    <tr style=\"text-align: right;\">\n",
       "      <th></th>\n",
       "      <th>col_1</th>\n",
       "      <th>col_2</th>\n",
       "      <th>target</th>\n",
       "    </tr>\n",
       "  </thead>\n",
       "  <tbody>\n",
       "    <tr>\n",
       "      <th>0</th>\n",
       "      <td>-0.762898</td>\n",
       "      <td>-0.706808</td>\n",
       "      <td>0</td>\n",
       "    </tr>\n",
       "    <tr>\n",
       "      <th>1</th>\n",
       "      <td>-1.075436</td>\n",
       "      <td>-1.051162</td>\n",
       "      <td>0</td>\n",
       "    </tr>\n",
       "    <tr>\n",
       "      <th>2</th>\n",
       "      <td>-0.610115</td>\n",
       "      <td>-0.909802</td>\n",
       "      <td>0</td>\n",
       "    </tr>\n",
       "    <tr>\n",
       "      <th>3</th>\n",
       "      <td>-2.023284</td>\n",
       "      <td>-0.428945</td>\n",
       "      <td>1</td>\n",
       "    </tr>\n",
       "    <tr>\n",
       "      <th>4</th>\n",
       "      <td>-0.812921</td>\n",
       "      <td>-1.316206</td>\n",
       "      <td>0</td>\n",
       "    </tr>\n",
       "  </tbody>\n",
       "</table>\n",
       "</div>"
      ],
      "text/plain": [
       "      col_1     col_2  target\n",
       "0 -0.762898 -0.706808       0\n",
       "1 -1.075436 -1.051162       0\n",
       "2 -0.610115 -0.909802       0\n",
       "3 -2.023284 -0.428945       1\n",
       "4 -0.812921 -1.316206       0"
      ]
     },
     "execution_count": 38,
     "metadata": {},
     "output_type": "execute_result"
    }
   ],
   "source": [
    "# creating dataframe / SYNTHETIC DATASET\n",
    "\n",
    "df1 = pd.DataFrame(x,columns=['col_1','col_2']) \n",
    "df2 = pd.DataFrame(y,columns=['target'])\n",
    "\n",
    "# merging into one dataFrame\n",
    "df = pd.concat([df1,df2],axis=1).reset_index(drop=True)\n",
    "\n",
    "df.head()"
   ]
  },
  {
   "cell_type": "code",
   "execution_count": 39,
   "id": "06fd97ad-aa5c-4541-aa79-bd449a26a042",
   "metadata": {},
   "outputs": [
    {
     "data": {
      "text/plain": [
       "0    900\n",
       "1    100\n",
       "Name: target, dtype: int64"
      ]
     },
     "execution_count": 39,
     "metadata": {},
     "output_type": "execute_result"
    }
   ],
   "source": [
    "df['target'].value_counts()"
   ]
  },
  {
   "cell_type": "code",
   "execution_count": 40,
   "id": "9de07052-27b0-4c8e-9c19-9e3b4330913c",
   "metadata": {},
   "outputs": [
    {
     "data": {
      "text/plain": [
       "<matplotlib.collections.PathCollection at 0x7f6132ee7580>"
      ]
     },
     "execution_count": 40,
     "metadata": {},
     "output_type": "execute_result"
    },
    {
     "data": {
      "image/png": "[encoded data removed]",
      "text/plain": [
       "<Figure size 640x480 with 1 Axes>"
      ]
     },
     "metadata": {},
     "output_type": "display_data"
    }
   ],
   "source": [
    "import matplotlib.pyplot as plt\n",
    "plt.scatter(df['col_1'],df['col_2'],c=df['target'])"
   ]
  },
  {
   "cell_type": "code",
   "execution_count": 41,
   "id": "c135099a-33fd-4b01-8046-b77530b4cc37",
   "metadata": {},
   "outputs": [],
   "source": [
    "# appling SMOTE on dataset 'df'"
   ]
  },
  {
   "cell_type": "code",
   "execution_count": 42,
   "id": "dd6d212f-8e38-443b-a577-a868833ca78e",
   "metadata": {},
   "outputs": [
    {
     "name": "stdout",
     "output_type": "stream",
     "text": [
      "Collecting imblearn\n",
      "  Downloading imblearn-0.0-py2.py3-none-any.whl (1.9 kB)\n",
      "Collecting imbalanced-learn\n",
      "  Downloading imbalanced_learn-0.12.3-py3-none-any.whl (258 kB)\n",
      "\u001b[2K     \u001b[90m━━━━━━━━━━━━━━━━━━━━━━━━━━━━━━━━━━━━━━━\u001b[0m \u001b[32m258.3/258.3 kB\u001b[0m \u001b[31m8.6 MB/s\u001b[0m eta \u001b[36m0:00:00\u001b[0m\n",
      "\u001b[?25hRequirement already satisfied: threadpoolctl>=2.0.0 in /opt/conda/lib/python3.10/site-packages (from imbalanced-learn->imblearn) (3.1.0)\n",
      "Requirement already satisfied: scikit-learn>=1.0.2 in /opt/conda/lib/python3.10/site-packages (from imbalanced-learn->imblearn) (1.2.0)\n",
      "Requirement already satisfied: scipy>=1.5.0 in /opt/conda/lib/python3.10/site-packages (from imbalanced-learn->imblearn) (1.9.3)\n",
      "Requirement already satisfied: numpy>=1.17.3 in /opt/conda/lib/python3.10/site-packages (from imbalanced-learn->imblearn) (1.23.5)\n",
      "Requirement already satisfied: joblib>=1.1.1 in /opt/conda/lib/python3.10/site-packages (from imbalanced-learn->imblearn) (1.2.0)\n",
      "Installing collected packages: imbalanced-learn, imblearn\n",
      "Successfully installed imbalanced-learn-0.12.3 imblearn-0.0\n"
     ]
    }
   ],
   "source": [
    "!pip install imblearn"
   ]
  },
  {
   "cell_type": "code",
   "execution_count": 43,
   "id": "cbede53c-04ea-4f08-b2fd-ea2959ab6c05",
   "metadata": {},
   "outputs": [],
   "source": [
    "from imblearn.over_sampling import SMOTE\n",
    "\n",
    "oversample = SMOTE()\n",
    "\n",
    "x1 , y1 = oversample.fit_resample( df[['col_1', 'col_2']] , df['target'] )"
   ]
  },
  {
   "cell_type": "code",
   "execution_count": 44,
   "id": "6b328961-5301-459d-ab17-eefc629c3103",
   "metadata": {},
   "outputs": [
    {
     "name": "stdout",
     "output_type": "stream",
     "text": [
      "(1800, 2)\n",
      "(1800,)\n"
     ]
    }
   ],
   "source": [
    "print(x1.shape)\n",
    "print(y1.shape)"
   ]
  },
  {
   "cell_type": "code",
   "execution_count": 45,
   "id": "69164720-3d73-4428-95fa-33bdfe42c909",
   "metadata": {},
   "outputs": [],
   "source": [
    "# creating a data frame from both and combining into one dataset or data-frame \n",
    "\n",
    "df_1 = pd.DataFrame(x1, columns=['col_1','col_2'])\n",
    "df_2 = pd.DataFrame(y1, columns=['target'])\n",
    "\n",
    "df_resampled= pd.concat([df_1,df_2], axis = 1).reset_index(drop=True)"
   ]
  },
  {
   "cell_type": "code",
   "execution_count": 46,
   "id": "7a564766-b56c-4fa8-8a87-2670ca5a50f5",
   "metadata": {},
   "outputs": [
    {
     "data": {
      "text/html": [
       "<div>\n",
       "<style scoped>\n",
       "    .dataframe tbody tr th:only-of-type {\n",
       "        vertical-align: middle;\n",
       "    }\n",
       "\n",
       "    .dataframe tbody tr th {\n",
       "        vertical-align: top;\n",
       "    }\n",
       "\n",
       "    .dataframe thead th {\n",
       "        text-align: right;\n",
       "    }\n",
       "</style>\n",
       "<table border=\"1\" class=\"dataframe\">\n",
       "  <thead>\n",
       "    <tr style=\"text-align: right;\">\n",
       "      <th></th>\n",
       "      <th>col_1</th>\n",
       "      <th>col_2</th>\n",
       "      <th>target</th>\n",
       "    </tr>\n",
       "  </thead>\n",
       "  <tbody>\n",
       "    <tr>\n",
       "      <th>0</th>\n",
       "      <td>-0.762898</td>\n",
       "      <td>-0.706808</td>\n",
       "      <td>0</td>\n",
       "    </tr>\n",
       "    <tr>\n",
       "      <th>1</th>\n",
       "      <td>-1.075436</td>\n",
       "      <td>-1.051162</td>\n",
       "      <td>0</td>\n",
       "    </tr>\n",
       "    <tr>\n",
       "      <th>2</th>\n",
       "      <td>-0.610115</td>\n",
       "      <td>-0.909802</td>\n",
       "      <td>0</td>\n",
       "    </tr>\n",
       "    <tr>\n",
       "      <th>3</th>\n",
       "      <td>-2.023284</td>\n",
       "      <td>-0.428945</td>\n",
       "      <td>1</td>\n",
       "    </tr>\n",
       "    <tr>\n",
       "      <th>4</th>\n",
       "      <td>-0.812921</td>\n",
       "      <td>-1.316206</td>\n",
       "      <td>0</td>\n",
       "    </tr>\n",
       "    <tr>\n",
       "      <th>...</th>\n",
       "      <td>...</td>\n",
       "      <td>...</td>\n",
       "      <td>...</td>\n",
       "    </tr>\n",
       "    <tr>\n",
       "      <th>1795</th>\n",
       "      <td>-1.572688</td>\n",
       "      <td>0.767757</td>\n",
       "      <td>1</td>\n",
       "    </tr>\n",
       "    <tr>\n",
       "      <th>1796</th>\n",
       "      <td>-0.062590</td>\n",
       "      <td>2.183893</td>\n",
       "      <td>1</td>\n",
       "    </tr>\n",
       "    <tr>\n",
       "      <th>1797</th>\n",
       "      <td>-1.408755</td>\n",
       "      <td>0.916369</td>\n",
       "      <td>1</td>\n",
       "    </tr>\n",
       "    <tr>\n",
       "      <th>1798</th>\n",
       "      <td>-1.268132</td>\n",
       "      <td>0.226398</td>\n",
       "      <td>1</td>\n",
       "    </tr>\n",
       "    <tr>\n",
       "      <th>1799</th>\n",
       "      <td>-0.776183</td>\n",
       "      <td>0.448877</td>\n",
       "      <td>1</td>\n",
       "    </tr>\n",
       "  </tbody>\n",
       "</table>\n",
       "<p>1800 rows × 3 columns</p>\n",
       "</div>"
      ],
      "text/plain": [
       "         col_1     col_2  target\n",
       "0    -0.762898 -0.706808       0\n",
       "1    -1.075436 -1.051162       0\n",
       "2    -0.610115 -0.909802       0\n",
       "3    -2.023284 -0.428945       1\n",
       "4    -0.812921 -1.316206       0\n",
       "...        ...       ...     ...\n",
       "1795 -1.572688  0.767757       1\n",
       "1796 -0.062590  2.183893       1\n",
       "1797 -1.408755  0.916369       1\n",
       "1798 -1.268132  0.226398       1\n",
       "1799 -0.776183  0.448877       1\n",
       "\n",
       "[1800 rows x 3 columns]"
      ]
     },
     "execution_count": 46,
     "metadata": {},
     "output_type": "execute_result"
    }
   ],
   "source": [
    "df_resampled"
   ]
  },
  {
   "cell_type": "code",
   "execution_count": 47,
   "id": "e7808070-3269-47f3-b497-7e796a00d3fa",
   "metadata": {},
   "outputs": [
    {
     "data": {
      "image/png": "[encoded data removed]",
      "text/plain": [
       "<Figure size 640x480 with 1 Axes>"
      ]
     },
     "metadata": {},
     "output_type": "display_data"
    }
   ],
   "source": [
    "plt.scatter(df_resampled['col_1'], df_resampled['col_2'], c = df_resampled['target'])\n",
    "plt.show()"
   ]
  },
  {
   "cell_type": "markdown",
   "id": "5ee7ce50-1b23-415b-a141-55ea798cf41f",
   "metadata": {},
   "source": [
    "**Comparing SMOTE and traditional resampling techniques (up-sampling and down-sampling):**\n",
    "\n",
    "| Feature                | SMOTE (Synthetic Minority Over-sampling Technique) | Up-sampling (Over-sampling) | Down-sampling (Under-sampling) |\n",
    "|------------------------|-----------------------------------------------------|-----------------------------|--------------------------------|\n",
    "| **Basic Concept**      | Generates synthetic samples for the minority class by interpolating between existing minority samples. | Duplicates existing minority class samples to increase their representation. | Removes samples from the majority class to reduce their representation. |\n",
    "| **Data Generation**    | Creates new, synthetic data points.                | Does not create new data, just duplicates existing data. | Does not create new data, just reduces existing data. |\n",
    "| **Risk of Overfitting**| Lower risk of overfitting compared to up-sampling because new, varied data points are generated. | Higher risk of overfitting due to repeated instances. | Lower risk of overfitting but can lead to loss of valuable information. |\n",
    "| **Data Balance**       | Balances the dataset by increasing the minority class size with synthetic data. | Balances the dataset by increasing the minority class size with duplicated data. | Balances the dataset by decreasing the majority class size. |\n",
    "| **Computational Cost** | Higher computational cost due to the generation of synthetic data points. | Moderate computational cost due to duplication of data. | Lower computational cost but may result in data loss. |\n",
    "| **Use Case**           | Best when the minority class has very few instances and the dataset is highly imbalanced. | Useful when computational resources are sufficient and overfitting is not a major concern. | Useful when computational resources are limited or when the majority class significantly outweighs the minority class. |\n",
    "| **Impact on Majority Class** | Does not affect the majority class. | Does not affect the majority class. | Reduces the number of samples in the majority class. |\n",
    "| **Implementation Complexity** | More complex due to the need for generating synthetic samples. | Simple to implement using standard resampling methods. | Simple to implement using standard resampling methods. |"
   ]
  },
  {
   "cell_type": "markdown",
   "id": "032dac2a-82cb-468e-b1b3-0de8dadd60db",
   "metadata": {},
   "source": [
    "### Q6: What are outliers in a dataset? Why is it essential to handle outliers?\n",
    "\n",
    "\n",
    "**Outliers in a Dataset:**\n",
    "<br>\n",
    "Outliers are data points that differ significantly from other observations in a dataset. They may be much higher or lower than the rest of the data, indicating that they are outside the expected range of values. Outliers can occur due to various reasons, such as measurement errors, data entry mistakes, or genuine variability in the data.\n",
    "\n",
    "#### Importance of Handling Outliers:\n",
    "\n",
    "1. **Impact on Statistical Analysis:**\n",
    "   - **Mean and Standard Deviation:** Outliers can disproportionately affect measures like the mean and standard deviation, leading to inaccurate estimates of central tendency and variability.\n",
    "   - **Correlation and Regression:** Outliers can distort correlation coefficients and regression models, making it difficult to identify true relationships between variables.\n",
    "\n",
    "2. **Impact on Machine Learning Models:**\n",
    "   - **Model Performance:** Outliers can adversely affect the performance of machine learning models by skewing the training process. Algorithms like linear regression, logistic regression, and k-means clustering are particularly sensitive to outliers.\n",
    "   - **Model Interpretation:** The presence of outliers can complicate the interpretation of model results, making it hard to draw meaningful conclusions from the data.\n",
    "\n",
    "3. **Data Integrity:**\n",
    "   - **Data Quality:** Outliers may indicate issues with data quality, such as data entry errors or measurement inaccuracies. Identifying and addressing outliers can help improve the overall quality of the dataset.\n",
    "   - **Anomaly Detection:** In some cases, outliers may represent important anomalies or rare events that require further investigation (e.g., fraud detection, medical diagnosis). Properly handling these outliers can enhance the detection and understanding of such events.\n",
    "\n",
    "#### Techniques to Handle Outliers:\n",
    "\n",
    "1. **Detection:**\n",
    "   - **Visualization:** Use box plots, scatter plots, and histograms to visually identify outliers.\n",
    "   - **Statistical Methods:** Apply statistical tests and methods such as the Z-score, IQR (Interquartile Range), and Mahalanobis distance to detect outliers.\n",
    "\n",
    "2. **Handling:**\n",
    "   - **Removal:** Remove outliers from the dataset if they are determined to be errors or irrelevant to the analysis.\n",
    "   - **Transformation:** Apply transformations (e.g., log, square root) to reduce the impact of outliers.\n",
    "   - **Imputation:** Replace outliers with more representative values, such as the median or mean of the surrounding data.\n",
    "   - **Robust Methods:** Use robust statistical methods and machine learning algorithms that are less sensitive to outliers (e.g., median-based methods, robust regression).\n"
   ]
  },
  {
   "cell_type": "markdown",
   "id": "534e2110-0925-4dfc-a512-cccbc894699b",
   "metadata": {},
   "source": [
    "#### **Five-Number Summary and Box Plot** \n",
    "\n",
    "The five-number summary is a concise way to describe the distribution of a dataset using five key statistics:\n",
    "\n",
    "1. **Minimum:** The smallest value in the dataset.\n",
    "2. **First Quartile (Q1):** The 25th percentile, which divides the lowest 25% of the data from the rest.\n",
    "3. **Median (Q2):** The 50th percentile, or the middle value when the data is sorted.\n",
    "4. **Third Quartile (Q3):** The 75th percentile, which divides the lowest 75% of the data from the top 25%.\n",
    "5. **Maximum:** The largest value in the dataset.\n",
    "\n",
    "**Important Points:**\n",
    "- **Range:** Difference between the maximum and minimum values.\n",
    "- **Interquartile Range (IQR):** Difference between Q3 and Q1, representing the middle 50% of the data.\n",
    "- **Descriptive Statistics:** Provides a summary of the data distribution, highlighting central tendency and spread.\n",
    "- **Robustness:** Less sensitive to outliers compared to measures like the mean."
   ]
  },
  {
   "cell_type": "code",
   "execution_count": 48,
   "id": "5f598beb-2a3b-425d-82f1-76b6a75d9584",
   "metadata": {},
   "outputs": [],
   "source": [
    "import numpy as np\n",
    "import pandas as pd\n",
    "import matplotlib.pyplot as plt\n",
    "import random\n",
    "\n",
    "random.seed(1)\n",
    "\n",
    "# generating random dataset\n",
    "# lst_heights = [ round((random.random())*1000,2) for i in range(20) ] \n",
    "\n",
    "lst_heights = [160,170,165,154,155,204,111,190,170,163,153,144,170,222,151,169,100,50,166]"
   ]
  },
  {
   "cell_type": "code",
   "execution_count": 49,
   "id": "ee12a1a8-65bc-4f72-b4b8-74c4bad35746",
   "metadata": {},
   "outputs": [],
   "source": [
    "# using list comprehension\n",
    "minimum,Q1,median,Q3,maximum = np.quantile(lst_heights,[0,0.25,0.5,0.75,1.0])"
   ]
  },
  {
   "cell_type": "code",
   "execution_count": 50,
   "id": "fb53152b-afe8-4a8f-be76-2d37952d193d",
   "metadata": {},
   "outputs": [
    {
     "data": {
      "text/plain": [
       "(50.0, 152.0, 163.0, 170.0, 222.0)"
      ]
     },
     "execution_count": 50,
     "metadata": {},
     "output_type": "execute_result"
    }
   ],
   "source": [
    "minimum,Q1,median,Q3,maximum "
   ]
  },
  {
   "cell_type": "code",
   "execution_count": null,
   "id": "bc3e49b8-04fc-46c7-a52a-9010a1af5f6c",
   "metadata": {},
   "outputs": [],
   "source": []
  },
  {
   "cell_type": "code",
   "execution_count": 51,
   "id": "a4b8cc62-d89d-4e28-a913-f922c4bc2e73",
   "metadata": {},
   "outputs": [],
   "source": [
    "IQR = Q3 - Q1\n",
    "lower_fence = Q1 - 1.5*(IQR)\n",
    "higher_fence = Q3 + 1.5*(IQR)\n",
    "outliers = [ i for i in lst_heights if (i < lower_fence) or (i>higher_fence) ]\n",
    "lst_heights.sort()\n",
    "outliers.sort()"
   ]
  },
  {
   "cell_type": "code",
   "execution_count": 52,
   "id": "81e3baae-91a0-4e4b-8503-3f4eb654f03a",
   "metadata": {},
   "outputs": [
    {
     "name": "stdout",
     "output_type": "stream",
     "text": [
      "Minimum :  50.0\n",
      "Q1      :  152.0\n",
      "Median  :  163.0\n",
      "Q3      :  170.0\n",
      "Maximum :  222.0\n",
      "\n",
      "lower_fence :  125.0\n",
      "higher_fence : 197.0\n",
      "\n",
      "dataset :  [50, 100, 111, 144, 151, 153, 154, 155, 160, 163, 165, 166, 169, 170, 170, 170, 190, 204, 222]\n",
      "\n",
      "outliers are :  [50, 100, 111, 204, 222]\n"
     ]
    }
   ],
   "source": [
    "print('Minimum : ',minimum)\n",
    "print('Q1      : ',Q1)\n",
    "print('Median  : ',median)\n",
    "print('Q3      : ',Q3)\n",
    "print('Maximum : ',maximum)\n",
    "print()\n",
    "print('lower_fence : ',lower_fence)\n",
    "print('higher_fence :',higher_fence)\n",
    "print()\n",
    "print('dataset : ',lst_heights)\n",
    "print()\n",
    "print('outliers are : ',outliers)"
   ]
  },
  {
   "cell_type": "code",
   "execution_count": 53,
   "id": "89a6a50c-6331-4542-b4a9-331493832a05",
   "metadata": {},
   "outputs": [
    {
     "data": {
      "text/plain": [
       "<AxesSubplot: >"
      ]
     },
     "execution_count": 53,
     "metadata": {},
     "output_type": "execute_result"
    },
    {
     "data": {
      "image/png": "[encoded data removed]",
      "text/plain": [
       "<Figure size 640x480 with 1 Axes>"
      ]
     },
     "metadata": {},
     "output_type": "display_data"
    }
   ],
   "source": [
    "# boxplot of lst_heights\n",
    "# cross check outliers !\n",
    "import seaborn as sns \n",
    "sns.boxplot(lst_heights)"
   ]
  },
  {
   "cell_type": "markdown",
   "id": "d3dbce42-c18c-46e6-a8c5-0e2144473b33",
   "metadata": {},
   "source": [
    "## Understanding Data Interpolation\n",
    "Data interpolation is the process of estimating unknown values within a dataset based on the known values. In Python, there are various libraries available that can be used for data interpolation, such as NumPy, SciPy, and Pandas. Here is an example of how to perform data interpolation using the NumPy library:\n",
    "\n",
    "1. Linear Interpolation\n",
    "2. Cubic Interpolation With Scipy\n",
    "3. Polynomial Interpolation"
   ]
  },
  {
   "cell_type": "markdown",
   "id": "69444eff-6376-491a-a577-dc673acff6a9",
   "metadata": {},
   "source": [
    "#### 1.Liner Interpolation"
   ]
  },
  {
   "cell_type": "code",
   "execution_count": 54,
   "id": "0691d794-be06-4a31-958b-5cc53dbf62a1",
   "metadata": {},
   "outputs": [
    {
     "data": {
      "image/png": "[encoded data removed]",
      "text/plain": [
       "<Figure size 640x480 with 1 Axes>"
      ]
     },
     "metadata": {},
     "output_type": "display_data"
    },
    {
     "name": "stdout",
     "output_type": "stream",
     "text": [
      "[1.         1.28571429 1.57142857 1.85714286 2.14285714 2.42857143\n",
      " 2.71428571 3.         3.28571429 3.57142857 3.85714286 4.14285714\n",
      " 4.42857143 4.71428571 5.        ]\n",
      "[ 3.          3.85714286  4.71428571  5.57142857  6.42857143  7.28571429\n",
      "  8.14285714  9.          9.85714286 10.71428571 11.57142857 12.42857143\n",
      " 13.28571429 14.14285714 15.        ]\n"
     ]
    },
    {
     "data": {
      "image/png": "[encoded data removed]",
      "text/plain": [
       "<Figure size 640x480 with 1 Axes>"
      ]
     },
     "metadata": {},
     "output_type": "display_data"
    }
   ],
   "source": [
    "import numpy as np\n",
    "import matplotlib.pyplot as plt\n",
    "\n",
    "# creating liner dataset\n",
    "x = np.array([1,2,3,4,5])\n",
    "y = np.array([3,6,9,12,15])\n",
    "\n",
    "# plotting the scatter plot\n",
    "plt.scatter(x,y)\n",
    "plt.show()\n",
    "\n",
    "# interpolating the data using linear interpolation \n",
    "x_new = np.linspace(1,5,15) # new values for x-axis\n",
    "y_interp = np.interp(x_new, x,y) # creating values for y axis (interpolated values of y acc. to x and y)\n",
    "\n",
    "print(x_new)\n",
    "print(y_interp)\n",
    "\n",
    "plt.scatter(x_new,y_interp)\n",
    "plt.show()"
   ]
  },
  {
   "cell_type": "markdown",
   "id": "104ebeb5-70b4-4bb4-869d-570045bb50b7",
   "metadata": {},
   "source": [
    "#### 2. Cubic Interpolation"
   ]
  },
  {
   "cell_type": "code",
   "execution_count": 55,
   "id": "e31e28ac-9d4d-46e6-bf76-6bce82b215b0",
   "metadata": {},
   "outputs": [
    {
     "name": "stdout",
     "output_type": "stream",
     "text": [
      "[1.         1.21052632 1.42105263 1.63157895 1.84210526 2.05263158\n",
      " 2.26315789 2.47368421 2.68421053 2.89473684 3.10526316 3.31578947\n",
      " 3.52631579 3.73684211 3.94736842 4.15789474 4.36842105 4.57894737\n",
      " 4.78947368 5.        ]\n",
      "[ 1.00000000e+00 -5.26169996e-01 -8.16008164e-01  3.71774311e-02\n",
      "  1.94007873e+00  4.79938767e+00  8.52179618e+00  1.30139962e+01\n",
      "  1.81826797e+01  2.39345386e+01  3.01809302e+01  3.69405161e+01\n",
      "  4.43392623e+01  5.25078000e+01  6.15767605e+01  7.16767750e+01\n",
      "  8.29384750e+01  9.54924916e+01  1.09469456e+02  1.25000000e+02]\n"
     ]
    },
    {
     "data": {
      "image/png": "[encoded data removed]",
      "text/plain": [
       "<Figure size 640x480 with 1 Axes>"
      ]
     },
     "metadata": {},
     "output_type": "display_data"
    }
   ],
   "source": [
    "from scipy.interpolate import interp1d\n",
    "\n",
    "x = np.array([1,2,3,4,5])\n",
    "y = np.array([1,4,27,64,125])\n",
    "\n",
    "# creating interpolation function \n",
    "i_func = interp1d(x,y,kind = 'cubic')\n",
    "\n",
    "x_new = np.linspace(1,5,20)\n",
    "\n",
    "# interpolating data\n",
    "y_interp = i_func(x_new)\n",
    "\n",
    "print(x_new)\n",
    "print(y_interp)\n",
    "\n",
    "plt.scatter(x_new,y_interp)\n",
    "plt.show()"
   ]
  },
  {
   "cell_type": "markdown",
   "id": "dabb0599-bcc4-492c-b6b1-43140c3100ce",
   "metadata": {},
   "source": [
    "#### 3. Polynomial Interpolation"
   ]
  },
  {
   "cell_type": "code",
   "execution_count": 56,
   "id": "6822ddd3-691d-4966-9ea1-95c9edd3f8e6",
   "metadata": {},
   "outputs": [
    {
     "data": {
      "image/png": "[encoded data removed]",
      "text/plain": [
       "<Figure size 640x480 with 1 Axes>"
      ]
     },
     "metadata": {},
     "output_type": "display_data"
    }
   ],
   "source": [
    "# creating random data\n",
    "\n",
    "x = np.array([1,2,3,4,5])\n",
    "y = np.array([1,4,9,16,25])\n",
    "\n",
    "# interpolating polynomial data \n",
    "p = np.polyfit(x,y,2) # 2 is degree o fitting polynomial, here '2'\n",
    "\n",
    "x_new = np.linspace(1,5,10)\n",
    "\n",
    "# interpolating y values\n",
    "y_interp = np.polyval(p,x_new)\n",
    "\n",
    "plt.scatter(x_new, y_interp)\n",
    "plt.show()"
   ]
  },
  {
   "cell_type": "markdown",
   "id": "f3d8085e-36a5-4399-b36f-cba261c218b6",
   "metadata": {},
   "source": [
    "## Q7: You are working on a project that requires analyzing customer data. However, you notice that some of the data is missing. What are some techniques you can use to handle the missing data in your analysis?\n",
    "\n",
    "Ans. Refer solution of Question No.1"
   ]
  },
  {
   "cell_type": "markdown",
   "id": "d6edacb9-599c-44be-9c23-ba8c55e32ccf",
   "metadata": {},
   "source": [
    "### Q8: You are working with a large dataset and find that a small percentage of the data is missing. What are some strategies you can use to determine if the missing data is missing at random or if there is a pattern to the missing data?\n",
    "\n",
    "To determine if missing data is missing at random or if there is a pattern, we can use the following strategies:\n",
    "\n",
    "1. **Visual Inspection:**\n",
    "   - **Heatmaps:** Use heatmaps to visualize the missing data and identify patterns.\n",
    "   - **Missing Data Plots:** Use missing data plots to show where data is missing.\n",
    "\n",
    "2. **Statistical Tests:**\n",
    "   - **Little’s MCAR Test:** This test checks if data is Missing Completely at Random (MCAR).\n",
    "   - **Chi-Square Test:** Compare the distribution of missing and non-missing data across different variables to see if there are significant differences.\n",
    "\n",
    "3. **Correlation Analysis:**\n",
    "   - **Missing Data Correlation:** Calculate correlations between missingness indicators (binary variables indicating whether data is missing) and other variables.\n",
    "\n",
    "4. **Pattern Analysis:**\n",
    "   - **Group Analysis:** Analyze missing data patterns within subgroups of the data.\n",
    "   - **Time-Series Analysis:** Check for patterns in missing data over time if dealing with time-series data.\n",
    "\n",
    "5. **Machine Learning Models:**\n",
    "   - **Predictive Models:** Use machine learning models to predict missingness. If the model performs well, it indicates a pattern to the missing data."
   ]
  },
  {
   "cell_type": "markdown",
   "id": "5408581b-a03b-40fa-8b18-5d4468af7523",
   "metadata": {},
   "source": [
    "### Q9: Suppose you are working on a medical diagnosis project and find that the majority of patients in the dataset do not have the condition of interest, while a small percentage do. What are some strategies you can use to evaluate the performance of your machine learning model on this imbalanced dataset?\n",
    "\n",
    "Ans. Refer solution of Question no.3"
   ]
  },
  {
   "cell_type": "markdown",
   "id": "1c50fc6c-601e-4769-b30d-18a85d0c0438",
   "metadata": {},
   "source": [
    "### Q10: When attempting to estimate customer satisfaction for a project, you discover that the dataset is unbalanced, with the bulk of customers reporting being satisfied. What methods can you employ to balance the dataset and down-sample the majority class?\n",
    "\n",
    "Ans. Refer solution of question no.4"
   ]
  },
  {
   "cell_type": "markdown",
   "id": "6a1d80d7-d2a2-47b0-b671-ffb460730ae3",
   "metadata": {},
   "source": [
    "### Q11: You discover that the dataset is unbalanced with a low percentage of occurrences while working on a project that requires you to estimate the occurrence of a rare event. What methods can you employ to balance the dataset and up-sample the minority class?\n",
    "\n",
    "Ans. Refer solution of Question no.4"
   ]
  }
 ],
 "metadata": {
  "kernelspec": {
   "display_name": "Python 3 (ipykernel)",
   "language": "python",
   "name": "python3"
  },
  "language_info": {
   "codemirror_mode": {
    "name": "ipython",
    "version": 3
   },
   "file_extension": ".py",
   "mimetype": "text/x-python",
   "name": "python",
   "nbconvert_exporter": "python",
   "pygments_lexer": "ipython3",
   "version": "3.10.8"
  }
 },
 "nbformat": 4,
 "nbformat_minor": 5
}
