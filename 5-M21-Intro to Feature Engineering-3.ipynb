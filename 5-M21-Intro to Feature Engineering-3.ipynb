{
 "cells": [
  {
   "cell_type": "markdown",
   "id": "1853b8b3-c7c9-4398-afa8-74387f4a2443",
   "metadata": {},
   "source": [
    "### Q1. What is data encoding? How is it useful in data science?\n",
    "\n",
    "Data encoding is the process of converting data from one form to another to make it suitable for various computational processes. In data science, encoding is essential for several reasons:\n",
    "\n",
    "1. **Handling Categorical Data**: Many machine learning algorithms require numerical input, so categorical data must be converted to numerical form. Techniques like one-hot encoding, label encoding, and binary encoding are commonly used.\n",
    "\n",
    "2. **Improving Model Performance**: Proper encoding can help models better understand and utilize the underlying patterns in the data, potentially improving accuracy and performance.\n",
    "\n",
    "3. **Data Compression**: Encoding can reduce the size of data, making storage and transmission more efficient.\n",
    "\n",
    "4. **Feature Engineering**: Encoding can create new features from existing data, enriching the dataset and potentially enhancing model predictions."
   ]
  },
  {
   "cell_type": "markdown",
   "id": "9f10116f-13bf-462f-924e-21e203ead9e4",
   "metadata": {},
   "source": [
    "### Q2. What is nominal encoding? Provide an example of how you would use it in a real-world scenario.\n",
    "\n",
    "Nominal encoding, also known as label encoding, is a method for converting categorical variables into numerical values. Each unique category is assigned a distinct integer value. This is useful when the categorical variable represents different classes without any intrinsic order or ranking.\n",
    "\n",
    "**Example**:\n",
    "\n",
    "Imagine you have a dataset with a feature called `Color` with values like `Red`, `Blue`, and `Green`. You can apply nominal encoding to convert these categories into numerical values:\n",
    "\n",
    "- `Red` → 0\n",
    "- `Blue` → 1\n",
    "- `Green` → 2\n",
    "\n",
    "In a real-world scenario, let's say you’re working on a machine learning model to classify products based on their color. By applying nominal encoding to the `Color` feature, you transform it into numerical values that the model can use. This allows the model to incorporate color information into its predictions."
   ]
  },
  {
   "cell_type": "markdown",
   "id": "78d40c3e-429d-448e-a6a9-215af2cc5bb0",
   "metadata": {},
   "source": [
    "### Q3. In what situations is nominal encoding preferred over one-hot encoding? Provide a practical example.\n",
    "\n",
    "\n",
    "Nominal encoding is preferred over one-hot encoding in situations where the categorical variable has a large number of unique categories or when memory efficiency is a concern. \n",
    "\n",
    "**Practical Example**:\n",
    "\n",
    "Consider a dataset with a feature `Country` containing the names of hundreds of countries. Using one-hot encoding would result in a very large number of additional features (one for each country), which can significantly increase the dataset's dimensionality and computational complexity.\n",
    "\n",
    "Instead, nominal encoding can be used to assign a unique integer to each country. For instance:\n",
    "\n",
    "- `USA` → 0\n",
    "- `Canada` → 1\n",
    "- `Germany` → 2\n",
    "- and so on...\n",
    "\n",
    "This approach is more memory-efficient and can be easier to manage when dealing with many categories. However, it's important to be cautious as nominal encoding may imply an unintended ordinal relationship if not handled properly, so it should be used when the categorical variable is truly nominal (without any inherent order)."
   ]
  },
  {
   "cell_type": "markdown",
   "id": "3ec183e5-5dc5-4ae1-b846-32d0f38b768d",
   "metadata": {},
   "source": [
    "### Q4. Suppose you have a dataset containing categorical data with 5 unique values. Which encoding technique would you use to transform this data into a format suitable for machine learning algorithms? Explain why you made this choice.\n",
    "\n",
    "For a dataset with categorical data containing 5 unique values, **one-hot encoding** is generally preferred. It avoids introducing any unintended ordinal relationships and ensures that each category is represented distinctly. This technique is effective for categorical variables without an inherent order."
   ]
  },
  {
   "cell_type": "markdown",
   "id": "b36f3cbf-1310-4998-9425-f0fa27da9bb4",
   "metadata": {},
   "source": [
    "### Q5. In a machine learning project, you have a dataset with 1000 rows and 5 columns. Two of the columns are categorical, and the remaining three columns are numerical. If you were to use nominal encoding to transform the categorical data, how many new columns would be created? Show your calculations.\n",
    "\n",
    "\n",
    "To determine how many new columns would be created by nominal encoding, you need to count the unique categories in each categorical column. Let's assume:\n",
    "\n",
    "- **Categorical Column 1** has 8 unique values.\n",
    "- **Categorical Column 2** has 12 unique values.\n",
    "\n",
    "Nominal encoding will convert each unique value in these columns to a separate column. Thus:\n",
    "\n",
    "- For Categorical Column 1: 8 new columns.\n",
    "- For Categorical Column 2: 12 new columns.\n",
    "\n",
    "**Total new columns created** = 8 (from Column 1) + 12 (from Column 2) = **20 columns**."
   ]
  },
  {
   "cell_type": "markdown",
   "id": "f9364ad6-c444-4db5-93be-7a59db033110",
   "metadata": {},
   "source": [
    "### Q6. You are working with a dataset containing information about different types of animals, including their species, habitat, and diet. Which encoding technique would you use to transform the categorical data into a format suitable for machine learning algorithms? Justify your answer.\n",
    "\n",
    "\n",
    "For a dataset with categorical information such as species, habitat, and diet, **one-hot encoding** is generally preferred. \n",
    "\n",
    "**Justification**:\n",
    "- **Avoids Ordinal Assumptions**: One-hot encoding avoids implying any ordinal relationship between categories, which is suitable for categorical data where no inherent order exists.\n",
    "- **Machine Learning Compatibility**: Most machine learning algorithms perform better with one-hot encoded data, as it provides a clear distinction between categories.\n",
    "\n",
    "In this case, each category is treated as a separate binary feature, making it easier for the algorithm to learn patterns without misinterpreting categorical values."
   ]
  },
  {
   "cell_type": "markdown",
   "id": "442b7786-25e8-44c3-ac43-e55543a1edb6",
   "metadata": {},
   "source": [
    "### Q7.You are working on a project that involves predicting customer churn for a telecommunications company. You have a dataset with 5 features, including the customer's gender, age, contract type, monthly charges, and tenure. Which encoding technique(s) would you use to transform the categorical data into numerical data? Provide a step-by-step explanation of how you would implement the encoding.\n",
    "\n",
    "For predicting customer churn, you would use **one-hot encoding** for the categorical features and **leave the numerical features as they are**. Here's a step-by-step explanation:\n",
    "\n",
    "1. **Identify Categorical Features**:\n",
    "   - **Gender** (e.g., Male, Female)\n",
    "   - **Contract Type** (e.g., Month-to-Month, One Year, Two Year)\n",
    "\n",
    "2. **Apply One-Hot Encoding**:\n",
    "   - **Gender**:\n",
    "     - Create a new binary feature for each category:\n",
    "       - `Gender_Male` (1 if Male, 0 otherwise)\n",
    "       - `Gender_Female` (1 if Female, 0 otherwise)\n",
    "\n",
    "   - **Contract Type**:\n",
    "     - Create a new binary feature for each category:\n",
    "       - `Contract_Month-to-Month` (1 if Month-to-Month, 0 otherwise)\n",
    "       - `Contract_One Year` (1 if One Year, 0 otherwise)\n",
    "       - `Contract_Two Year` (1 if Two Year, 0 otherwise)\n",
    "\n",
    "3. **Leave Numerical Features**:\n",
    "   - **Age**, **Monthly Charges**, and **Tenure** are already numerical and do not need encoding.\n",
    "\n",
    "4. **Combine All Features**:\n",
    "   - After encoding, you will have the following features:\n",
    "     - `Gender_Male`, `Gender_Female`\n",
    "     - `Contract_Month-to-Month`, `Contract_One Year`, `Contract_Two Year`\n",
    "     - `Age`, `Monthly Charges`, `Tenure`\n",
    "\n",
    "This process will transform the categorical features into a format suitable for machine learning algorithms while preserving the numerical features in their original form."
   ]
  },
  {
   "cell_type": "markdown",
   "id": "4e326f12-9133-471c-bf0a-dcc45f1360c3",
   "metadata": {},
   "source": [
    "## Data Encoding\n",
    "\n",
    "1. Nominal/OHE Encoding\n",
    "2. Label and Ordinal Encoding\n",
    "3. Target Guided Ordinal Encoding "
   ]
  },
  {
   "cell_type": "code",
   "execution_count": 2,
   "id": "52f03c6e-07c4-4aaa-9e1e-d7510628309d",
   "metadata": {},
   "outputs": [],
   "source": [
    "# OHE Encoding\n",
    "import pandas as pd\n",
    "from sklearn.preprocessing import OneHotEncoder"
   ]
  },
  {
   "cell_type": "code",
   "execution_count": 6,
   "id": "66fba31b-46d6-4fba-840a-49fc3b1a1304",
   "metadata": {},
   "outputs": [
    {
     "data": {
      "text/html": [
       "<div>\n",
       "<style scoped>\n",
       "    .dataframe tbody tr th:only-of-type {\n",
       "        vertical-align: middle;\n",
       "    }\n",
       "\n",
       "    .dataframe tbody tr th {\n",
       "        vertical-align: top;\n",
       "    }\n",
       "\n",
       "    .dataframe thead th {\n",
       "        text-align: right;\n",
       "    }\n",
       "</style>\n",
       "<table border=\"1\" class=\"dataframe\">\n",
       "  <thead>\n",
       "    <tr style=\"text-align: right;\">\n",
       "      <th></th>\n",
       "      <th>color</th>\n",
       "    </tr>\n",
       "  </thead>\n",
       "  <tbody>\n",
       "    <tr>\n",
       "      <th>0</th>\n",
       "      <td>blue</td>\n",
       "    </tr>\n",
       "    <tr>\n",
       "      <th>1</th>\n",
       "      <td>red</td>\n",
       "    </tr>\n",
       "    <tr>\n",
       "      <th>2</th>\n",
       "      <td>green</td>\n",
       "    </tr>\n",
       "    <tr>\n",
       "      <th>3</th>\n",
       "      <td>green</td>\n",
       "    </tr>\n",
       "    <tr>\n",
       "      <th>4</th>\n",
       "      <td>red</td>\n",
       "    </tr>\n",
       "  </tbody>\n",
       "</table>\n",
       "</div>"
      ],
      "text/plain": [
       "   color\n",
       "0   blue\n",
       "1    red\n",
       "2  green\n",
       "3  green\n",
       "4    red"
      ]
     },
     "execution_count": 6,
     "metadata": {},
     "output_type": "execute_result"
    }
   ],
   "source": [
    "# creating simple categorical df\n",
    "df = pd.DataFrame({\n",
    "    'color' : ['blue','red','green','green','red','blue','blue']\n",
    "})\n",
    "\n",
    "df.head()"
   ]
  },
  {
   "cell_type": "code",
   "execution_count": 7,
   "id": "df79857b-28f9-4f49-b627-bbe947ce7cd1",
   "metadata": {},
   "outputs": [],
   "source": [
    "# creating an instance of one hot encoder\n",
    "encoder = OneHotEncoder()"
   ]
  },
  {
   "cell_type": "code",
   "execution_count": 8,
   "id": "0dc878b2-35ed-4249-85a8-d7a35744185f",
   "metadata": {},
   "outputs": [],
   "source": [
    "# performing fit-transform\n",
    "encoded = encoder.fit_transform(df[['color']]).toarray()"
   ]
  },
  {
   "cell_type": "code",
   "execution_count": 9,
   "id": "dce40da8-385c-4fd8-aaf5-6622342ae61d",
   "metadata": {},
   "outputs": [],
   "source": [
    "encoder_df=pd.DataFrame(encoded,columns=encoder.get_feature_names_out())"
   ]
  },
  {
   "cell_type": "code",
   "execution_count": 11,
   "id": "0607c020-9a04-4f36-b9c8-b1f03b33a11d",
   "metadata": {},
   "outputs": [
    {
     "data": {
      "text/html": [
       "<div>\n",
       "<style scoped>\n",
       "    .dataframe tbody tr th:only-of-type {\n",
       "        vertical-align: middle;\n",
       "    }\n",
       "\n",
       "    .dataframe tbody tr th {\n",
       "        vertical-align: top;\n",
       "    }\n",
       "\n",
       "    .dataframe thead th {\n",
       "        text-align: right;\n",
       "    }\n",
       "</style>\n",
       "<table border=\"1\" class=\"dataframe\">\n",
       "  <thead>\n",
       "    <tr style=\"text-align: right;\">\n",
       "      <th></th>\n",
       "      <th>color_blue</th>\n",
       "      <th>color_green</th>\n",
       "      <th>color_red</th>\n",
       "    </tr>\n",
       "  </thead>\n",
       "  <tbody>\n",
       "    <tr>\n",
       "      <th>0</th>\n",
       "      <td>1.0</td>\n",
       "      <td>0.0</td>\n",
       "      <td>0.0</td>\n",
       "    </tr>\n",
       "    <tr>\n",
       "      <th>1</th>\n",
       "      <td>0.0</td>\n",
       "      <td>0.0</td>\n",
       "      <td>1.0</td>\n",
       "    </tr>\n",
       "    <tr>\n",
       "      <th>2</th>\n",
       "      <td>0.0</td>\n",
       "      <td>1.0</td>\n",
       "      <td>0.0</td>\n",
       "    </tr>\n",
       "    <tr>\n",
       "      <th>3</th>\n",
       "      <td>0.0</td>\n",
       "      <td>1.0</td>\n",
       "      <td>0.0</td>\n",
       "    </tr>\n",
       "    <tr>\n",
       "      <th>4</th>\n",
       "      <td>0.0</td>\n",
       "      <td>0.0</td>\n",
       "      <td>1.0</td>\n",
       "    </tr>\n",
       "    <tr>\n",
       "      <th>5</th>\n",
       "      <td>1.0</td>\n",
       "      <td>0.0</td>\n",
       "      <td>0.0</td>\n",
       "    </tr>\n",
       "    <tr>\n",
       "      <th>6</th>\n",
       "      <td>1.0</td>\n",
       "      <td>0.0</td>\n",
       "      <td>0.0</td>\n",
       "    </tr>\n",
       "  </tbody>\n",
       "</table>\n",
       "</div>"
      ],
      "text/plain": [
       "   color_blue  color_green  color_red\n",
       "0         1.0          0.0        0.0\n",
       "1         0.0          0.0        1.0\n",
       "2         0.0          1.0        0.0\n",
       "3         0.0          1.0        0.0\n",
       "4         0.0          0.0        1.0\n",
       "5         1.0          0.0        0.0\n",
       "6         1.0          0.0        0.0"
      ]
     },
     "execution_count": 11,
     "metadata": {},
     "output_type": "execute_result"
    }
   ],
   "source": [
    "# observe it has encoded alphabetically \n",
    "encoder_df"
   ]
  },
  {
   "cell_type": "code",
   "execution_count": 12,
   "id": "dc95eb06-a2c7-48f8-a9b2-86a9fa4451cb",
   "metadata": {},
   "outputs": [
    {
     "name": "stderr",
     "output_type": "stream",
     "text": [
      "/opt/conda/lib/python3.10/site-packages/sklearn/base.py:409: UserWarning: X does not have valid feature names, but OneHotEncoder was fitted with feature names\n",
      "  warnings.warn(\n"
     ]
    },
    {
     "data": {
      "text/plain": [
       "array([[1., 0., 0.]])"
      ]
     },
     "execution_count": 12,
     "metadata": {},
     "output_type": "execute_result"
    }
   ],
   "source": [
    "## for new data\n",
    "encoder.transform([['blue']]).toarray()"
   ]
  },
  {
   "cell_type": "code",
   "execution_count": 13,
   "id": "acd03876-ef75-49f4-905e-40b67060e2b5",
   "metadata": {},
   "outputs": [
    {
     "data": {
      "text/html": [
       "<div>\n",
       "<style scoped>\n",
       "    .dataframe tbody tr th:only-of-type {\n",
       "        vertical-align: middle;\n",
       "    }\n",
       "\n",
       "    .dataframe tbody tr th {\n",
       "        vertical-align: top;\n",
       "    }\n",
       "\n",
       "    .dataframe thead th {\n",
       "        text-align: right;\n",
       "    }\n",
       "</style>\n",
       "<table border=\"1\" class=\"dataframe\">\n",
       "  <thead>\n",
       "    <tr style=\"text-align: right;\">\n",
       "      <th></th>\n",
       "      <th>color</th>\n",
       "      <th>color_blue</th>\n",
       "      <th>color_green</th>\n",
       "      <th>color_red</th>\n",
       "    </tr>\n",
       "  </thead>\n",
       "  <tbody>\n",
       "    <tr>\n",
       "      <th>0</th>\n",
       "      <td>blue</td>\n",
       "      <td>1.0</td>\n",
       "      <td>0.0</td>\n",
       "      <td>0.0</td>\n",
       "    </tr>\n",
       "    <tr>\n",
       "      <th>1</th>\n",
       "      <td>red</td>\n",
       "      <td>0.0</td>\n",
       "      <td>0.0</td>\n",
       "      <td>1.0</td>\n",
       "    </tr>\n",
       "    <tr>\n",
       "      <th>2</th>\n",
       "      <td>green</td>\n",
       "      <td>0.0</td>\n",
       "      <td>1.0</td>\n",
       "      <td>0.0</td>\n",
       "    </tr>\n",
       "    <tr>\n",
       "      <th>3</th>\n",
       "      <td>green</td>\n",
       "      <td>0.0</td>\n",
       "      <td>1.0</td>\n",
       "      <td>0.0</td>\n",
       "    </tr>\n",
       "    <tr>\n",
       "      <th>4</th>\n",
       "      <td>red</td>\n",
       "      <td>0.0</td>\n",
       "      <td>0.0</td>\n",
       "      <td>1.0</td>\n",
       "    </tr>\n",
       "    <tr>\n",
       "      <th>5</th>\n",
       "      <td>blue</td>\n",
       "      <td>1.0</td>\n",
       "      <td>0.0</td>\n",
       "      <td>0.0</td>\n",
       "    </tr>\n",
       "    <tr>\n",
       "      <th>6</th>\n",
       "      <td>blue</td>\n",
       "      <td>1.0</td>\n",
       "      <td>0.0</td>\n",
       "      <td>0.0</td>\n",
       "    </tr>\n",
       "  </tbody>\n",
       "</table>\n",
       "</div>"
      ],
      "text/plain": [
       "   color  color_blue  color_green  color_red\n",
       "0   blue         1.0          0.0        0.0\n",
       "1    red         0.0          0.0        1.0\n",
       "2  green         0.0          1.0        0.0\n",
       "3  green         0.0          1.0        0.0\n",
       "4    red         0.0          0.0        1.0\n",
       "5   blue         1.0          0.0        0.0\n",
       "6   blue         1.0          0.0        0.0"
      ]
     },
     "execution_count": 13,
     "metadata": {},
     "output_type": "execute_result"
    }
   ],
   "source": [
    "pd.concat([df,encoder_df],axis=1)"
   ]
  },
  {
   "cell_type": "markdown",
   "id": "8db676e8-15b1-49c1-b9ea-c044a447b809",
   "metadata": {},
   "source": [
    "### Label Encoding \n",
    "Label encoding and ordinal encoding are two techniques used to encode categorical data as numerical data.\n",
    "\n",
    "Label encoding involves assigning a unique numerical label to each category in the variable. The labels are usually assigned in alphabetical order or based on the frequency of the categories. For example, if we have a categorical variable \"color\" with three possible values (red, green, blue), we can represent it using label encoding as follows:\n",
    "\n",
    "1. Red: 1\n",
    "2. Green: 2\n",
    "3. Blue: 3"
   ]
  },
  {
   "cell_type": "code",
   "execution_count": 16,
   "id": "08b8bdd8-8e30-4a0c-b870-a3f11215d111",
   "metadata": {},
   "outputs": [],
   "source": [
    "from sklearn.preprocessing import LabelEncoder\n",
    "lbl_encoder=LabelEncoder()"
   ]
  },
  {
   "cell_type": "code",
   "execution_count": 17,
   "id": "e0a60792-56aa-450d-ba2d-5a6c321ab709",
   "metadata": {},
   "outputs": [
    {
     "name": "stderr",
     "output_type": "stream",
     "text": [
      "/opt/conda/lib/python3.10/site-packages/sklearn/preprocessing/_label.py:116: DataConversionWarning: A column-vector y was passed when a 1d array was expected. Please change the shape of y to (n_samples, ), for example using ravel().\n",
      "  y = column_or_1d(y, warn=True)\n"
     ]
    },
    {
     "data": {
      "text/plain": [
       "array([0, 2, 1, 1, 2, 0, 0])"
      ]
     },
     "execution_count": 17,
     "metadata": {},
     "output_type": "execute_result"
    }
   ],
   "source": [
    "lbl_encoder.fit_transform(df[['color']])"
   ]
  },
  {
   "cell_type": "code",
   "execution_count": 18,
   "id": "31861ade-08b0-4fba-9c03-57174d03678a",
   "metadata": {},
   "outputs": [
    {
     "name": "stderr",
     "output_type": "stream",
     "text": [
      "/opt/conda/lib/python3.10/site-packages/sklearn/preprocessing/_label.py:134: DataConversionWarning: A column-vector y was passed when a 1d array was expected. Please change the shape of y to (n_samples, ), for example using ravel().\n",
      "  y = column_or_1d(y, dtype=self.classes_.dtype, warn=True)\n"
     ]
    },
    {
     "data": {
      "text/plain": [
       "array([2])"
      ]
     },
     "execution_count": 18,
     "metadata": {},
     "output_type": "execute_result"
    }
   ],
   "source": [
    "lbl_encoder.transform([['green']])\n",
    "lbl_encoder.transform([['blue']])\n",
    "lbl_encoder.transform([['red']])"
   ]
  },
  {
   "cell_type": "markdown",
   "id": "39a96a24-7153-4af6-9b77-317babd7e554",
   "metadata": {},
   "source": [
    "### Ordinal Encoding\n",
    "It is used to encode categorical data that have an intrinsic order or ranking. In this technique, each category is assigned a numerical value based on its position in the order. For example, if we have a categorical variable \"education level\" with four possible values (high school, college, graduate, post-graduate), we can represent it using ordinal encoding as follows:\n",
    "\n",
    "1. High school: 1\n",
    "2. College: 2\n",
    "3. Graduate: 3\n",
    "4. Post-graduate: 4"
   ]
  },
  {
   "cell_type": "code",
   "execution_count": 19,
   "id": "47883b50-ef55-4d4d-8779-d68cac4f253a",
   "metadata": {},
   "outputs": [],
   "source": [
    "## Ordinal Encoding\n",
    "from sklearn.preprocessing import OrdinalEncoder"
   ]
  },
  {
   "cell_type": "code",
   "execution_count": 20,
   "id": "4fc98015-c91b-4eb8-9dd7-3aa926b0959e",
   "metadata": {},
   "outputs": [],
   "source": [
    "# create a sample dataframe with an ordinal variable\n",
    "df = pd.DataFrame({\n",
    "    'size': ['small', 'medium', 'large', 'medium', 'small', 'large']\n",
    "})"
   ]
  },
  {
   "cell_type": "code",
   "execution_count": 21,
   "id": "e62e440f-001d-4fa0-8921-e7ddfcf289b5",
   "metadata": {},
   "outputs": [
    {
     "data": {
      "text/html": [
       "<div>\n",
       "<style scoped>\n",
       "    .dataframe tbody tr th:only-of-type {\n",
       "        vertical-align: middle;\n",
       "    }\n",
       "\n",
       "    .dataframe tbody tr th {\n",
       "        vertical-align: top;\n",
       "    }\n",
       "\n",
       "    .dataframe thead th {\n",
       "        text-align: right;\n",
       "    }\n",
       "</style>\n",
       "<table border=\"1\" class=\"dataframe\">\n",
       "  <thead>\n",
       "    <tr style=\"text-align: right;\">\n",
       "      <th></th>\n",
       "      <th>size</th>\n",
       "    </tr>\n",
       "  </thead>\n",
       "  <tbody>\n",
       "    <tr>\n",
       "      <th>0</th>\n",
       "      <td>small</td>\n",
       "    </tr>\n",
       "    <tr>\n",
       "      <th>1</th>\n",
       "      <td>medium</td>\n",
       "    </tr>\n",
       "    <tr>\n",
       "      <th>2</th>\n",
       "      <td>large</td>\n",
       "    </tr>\n",
       "    <tr>\n",
       "      <th>3</th>\n",
       "      <td>medium</td>\n",
       "    </tr>\n",
       "    <tr>\n",
       "      <th>4</th>\n",
       "      <td>small</td>\n",
       "    </tr>\n",
       "    <tr>\n",
       "      <th>5</th>\n",
       "      <td>large</td>\n",
       "    </tr>\n",
       "  </tbody>\n",
       "</table>\n",
       "</div>"
      ],
      "text/plain": [
       "     size\n",
       "0   small\n",
       "1  medium\n",
       "2   large\n",
       "3  medium\n",
       "4   small\n",
       "5   large"
      ]
     },
     "execution_count": 21,
     "metadata": {},
     "output_type": "execute_result"
    }
   ],
   "source": [
    "df"
   ]
  },
  {
   "cell_type": "code",
   "execution_count": 22,
   "id": "4d94ad55-dc07-4d41-b6a7-b74ea1325f6d",
   "metadata": {},
   "outputs": [],
   "source": [
    "## create an instance of ORdinalEncoder and then fit_transform\n",
    "encoder=OrdinalEncoder(categories=[['small','medium','large']])"
   ]
  },
  {
   "cell_type": "code",
   "execution_count": 23,
   "id": "c611a7c9-9bba-4df4-b231-d7d79f51f001",
   "metadata": {},
   "outputs": [
    {
     "data": {
      "text/plain": [
       "array([[0.],\n",
       "       [1.],\n",
       "       [2.],\n",
       "       [1.],\n",
       "       [0.],\n",
       "       [2.]])"
      ]
     },
     "execution_count": 23,
     "metadata": {},
     "output_type": "execute_result"
    }
   ],
   "source": [
    "encoder.fit_transform(df[['size']])"
   ]
  },
  {
   "cell_type": "code",
   "execution_count": 24,
   "id": "8f78c7d6-b9f9-4889-945f-9c31a2da3598",
   "metadata": {},
   "outputs": [
    {
     "name": "stderr",
     "output_type": "stream",
     "text": [
      "/opt/conda/lib/python3.10/site-packages/sklearn/base.py:409: UserWarning: X does not have valid feature names, but OrdinalEncoder was fitted with feature names\n",
      "  warnings.warn(\n"
     ]
    },
    {
     "data": {
      "text/plain": [
       "array([[0.]])"
      ]
     },
     "execution_count": 24,
     "metadata": {},
     "output_type": "execute_result"
    }
   ],
   "source": [
    "encoder.transform([['small']])"
   ]
  }
 ],
 "metadata": {
  "kernelspec": {
   "display_name": "Python 3 (ipykernel)",
   "language": "python",
   "name": "python3"
  },
  "language_info": {
   "codemirror_mode": {
    "name": "ipython",
    "version": 3
   },
   "file_extension": ".py",
   "mimetype": "text/x-python",
   "name": "python",
   "nbconvert_exporter": "python",
   "pygments_lexer": "ipython3",
   "version": "3.10.8"
  }
 },
 "nbformat": 4,
 "nbformat_minor": 5
}
