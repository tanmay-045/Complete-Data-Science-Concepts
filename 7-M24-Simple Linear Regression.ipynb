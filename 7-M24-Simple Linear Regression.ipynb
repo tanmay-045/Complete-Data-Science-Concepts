{
 "cells": [
  {
   "cell_type": "markdown",
   "id": "594f641c-b0a1-42e2-9164-a5338c11409d",
   "metadata": {},
   "source": [
    "## Simple Linear Regression\n",
    "\n",
    "Simple linear regression is a supervised learning algorithm used in machine learning to model the relationship between two variables: one independent variable (input) and one dependent variable (output). It assumes a linear relationship between them, represented by the equation:\n",
    "\n",
    "[\n",
    "y = mx + c\n",
    "]\n",
    "\n",
    "where:\n",
    "- \\( y \\) is the predicted output,\n",
    "- \\( x \\) is the independent variable (input),\n",
    "- \\( m \\) is the slope of the line (how much \\( y \\) changes with \\( x \\)),\n",
    "- \\( c \\) is the intercept (the value of \\( y \\) when \\( x = 0 \\)).\n",
    "\n",
    "The goal of simple linear regression is to find the best-fitting line that minimizes the difference between the predicted and actual values of \\( y \\)."
   ]
  },
  {
   "cell_type": "code",
   "execution_count": 1,
   "id": "11a347cb-c9f4-483a-b51b-aa10ddf14ff2",
   "metadata": {},
   "outputs": [],
   "source": [
    "# Simple Linear Regression \n",
    "# about dataset:\n",
    "# It contains 2 simple hight & weight columns "
   ]
  },
  {
   "cell_type": "code",
   "execution_count": 2,
   "id": "c57187a8-fbf7-40ec-bb00-e78b1617e77a",
   "metadata": {},
   "outputs": [],
   "source": [
    "import pandas as pd\n",
    "import matplotlib.pyplot as plt\n",
    "import numpy as np"
   ]
  },
  {
   "cell_type": "code",
   "execution_count": 3,
   "id": "ee1381a3-de0b-4053-82fd-41d5185a7776",
   "metadata": {},
   "outputs": [],
   "source": [
    "df = pd.read_csv(\"height-weight.csv\")"
   ]
  },
  {
   "cell_type": "code",
   "execution_count": 4,
   "id": "542a6054-c120-4cd1-98b3-1a6ce7dc636c",
   "metadata": {},
   "outputs": [
    {
     "data": {
      "text/html": [
       "<div>\n",
       "<style scoped>\n",
       "    .dataframe tbody tr th:only-of-type {\n",
       "        vertical-align: middle;\n",
       "    }\n",
       "\n",
       "    .dataframe tbody tr th {\n",
       "        vertical-align: top;\n",
       "    }\n",
       "\n",
       "    .dataframe thead th {\n",
       "        text-align: right;\n",
       "    }\n",
       "</style>\n",
       "<table border=\"1\" class=\"dataframe\">\n",
       "  <thead>\n",
       "    <tr style=\"text-align: right;\">\n",
       "      <th></th>\n",
       "      <th>Weight</th>\n",
       "      <th>Height</th>\n",
       "    </tr>\n",
       "  </thead>\n",
       "  <tbody>\n",
       "    <tr>\n",
       "      <th>0</th>\n",
       "      <td>45</td>\n",
       "      <td>120</td>\n",
       "    </tr>\n",
       "    <tr>\n",
       "      <th>1</th>\n",
       "      <td>58</td>\n",
       "      <td>135</td>\n",
       "    </tr>\n",
       "    <tr>\n",
       "      <th>2</th>\n",
       "      <td>48</td>\n",
       "      <td>123</td>\n",
       "    </tr>\n",
       "    <tr>\n",
       "      <th>3</th>\n",
       "      <td>60</td>\n",
       "      <td>145</td>\n",
       "    </tr>\n",
       "    <tr>\n",
       "      <th>4</th>\n",
       "      <td>70</td>\n",
       "      <td>160</td>\n",
       "    </tr>\n",
       "  </tbody>\n",
       "</table>\n",
       "</div>"
      ],
      "text/plain": [
       "   Weight  Height\n",
       "0      45     120\n",
       "1      58     135\n",
       "2      48     123\n",
       "3      60     145\n",
       "4      70     160"
      ]
     },
     "execution_count": 4,
     "metadata": {},
     "output_type": "execute_result"
    }
   ],
   "source": [
    "df.head()"
   ]
  },
  {
   "cell_type": "code",
   "execution_count": 5,
   "id": "0797a788-c36b-4ea2-9a98-24b7aec0dc73",
   "metadata": {},
   "outputs": [
    {
     "data": {
      "image/png": "[encoded data removed]",
      "text/plain": [
       "<Figure size 640x480 with 1 Axes>"
      ]
     },
     "metadata": {},
     "output_type": "display_data"
    }
   ],
   "source": [
    "# Observing relation between both variables by scatter plot\n",
    "plt.scatter(x=df['Weight'], y=df['Height'])\n",
    "plt.xlabel(\"Weight\")\n",
    "plt.ylabel(\"Height\")\n",
    "plt.show()"
   ]
  },
  {
   "cell_type": "code",
   "execution_count": 6,
   "id": "8f8673f4-c060-4f14-8088-0edf221e3e32",
   "metadata": {},
   "outputs": [],
   "source": [
    "# # Steps to be followed to perform Simple Linear Regression on the given dataset\n",
    "# 1. Load dataset\n",
    "# 2. Divide the dataset into dependent and independent features\n",
    "# 3. Train Test Split of dataset\n",
    "# 4. Considering 'Weight' as independent feature and 'Height' as dependent or output feature\n",
    "# 5. Standardize the data\n",
    "# 6. Perform Linear Regression"
   ]
  },
  {
   "cell_type": "code",
   "execution_count": 7,
   "id": "1a5d68d5-ccd5-4227-9725-b7c8cc6a1f85",
   "metadata": {},
   "outputs": [],
   "source": [
    "# dividing dataset into indep and depen features\n",
    "X = df[['Weight']] # making it 2 dim to apply standard scalar\n",
    "y = df['Height']"
   ]
  },
  {
   "cell_type": "code",
   "execution_count": 8,
   "id": "effc6ebb-ae43-414c-9721-ee39c81be731",
   "metadata": {},
   "outputs": [],
   "source": [
    "# train test split\n",
    "from sklearn.model_selection import train_test_split"
   ]
  },
  {
   "cell_type": "code",
   "execution_count": 9,
   "id": "9c5f74cb-2a4e-488d-a8a2-a446fa599c2c",
   "metadata": {},
   "outputs": [],
   "source": [
    "# dividing data\n",
    "X_train,X_test,y_train,y_test = train_test_split(X, y, test_size=0.20, random_state=42)"
   ]
  },
  {
   "cell_type": "code",
   "execution_count": 10,
   "id": "90cfc2c6-9516-4211-b66c-5f31efcd127a",
   "metadata": {},
   "outputs": [
    {
     "data": {
      "text/plain": [
       "((23, 1), (18, 1), (5, 1))"
      ]
     },
     "execution_count": 10,
     "metadata": {},
     "output_type": "execute_result"
    }
   ],
   "source": [
    "# observe the division for input/ independent feature\n",
    "X.shape,X_train.shape,X_test.shape"
   ]
  },
  {
   "cell_type": "code",
   "execution_count": 11,
   "id": "e1f617ff-ee8a-4a3f-adc5-11b4c47bbb56",
   "metadata": {},
   "outputs": [
    {
     "data": {
      "text/plain": [
       "((23,), (18,), (5,))"
      ]
     },
     "execution_count": 11,
     "metadata": {},
     "output_type": "execute_result"
    }
   ],
   "source": [
    "# observe the division for output feature\n",
    "y.shape,y_train.shape,y_test.shape"
   ]
  },
  {
   "cell_type": "code",
   "execution_count": 12,
   "id": "2d23d4c5-370a-4056-863c-b335a8862bb2",
   "metadata": {},
   "outputs": [],
   "source": [
    "# # standardizing the data\n",
    "# as data contains large numneric values so, will take longer time\n",
    "# so we are scaling it domm for faster processing\n",
    "# so we will apply z-score to apply every datapoint to scale them down \n",
    "# Another reason is to make them standard and spread them evenly over in finite area or range\n",
    "# observe X_train_std, it is distributed in the range -1.5 to 1.5\n",
    "# we will be using standard scalar\n",
    "# training the Simple Linear Regression Model"
   ]
  },
  {
   "cell_type": "code",
   "execution_count": 13,
   "id": "4efe336c-9ee0-4b74-9989-50bd91a9f94e",
   "metadata": {},
   "outputs": [],
   "source": [
    "from sklearn.preprocessing import StandardScaler"
   ]
  },
  {
   "cell_type": "code",
   "execution_count": 14,
   "id": "fad9f27e-dada-4800-8524-467553ae797c",
   "metadata": {},
   "outputs": [],
   "source": [
    "# making object\n",
    "scaler = StandardScaler()"
   ]
  },
  {
   "cell_type": "code",
   "execution_count": 15,
   "id": "58199aab-41b2-4adc-b3aa-db80b589aa77",
   "metadata": {},
   "outputs": [],
   "source": [
    "# standardizing \n",
    "X_train_std = scaler.fit_transform(X_train)\n",
    "X_test_std = scaler.transform(X_test)\n",
    "\n",
    "# fit will compute mean and std deviation to compute z score ; transform will apply that\n",
    "# we are not using 'fit_transform' on test data i.e. X_test \n",
    "# we are just transforming it on the basis of the mean and std deviation calculated from X_train data\n",
    "# there comes a concept of data leakage will se that later."
   ]
  },
  {
   "cell_type": "code",
   "execution_count": 16,
   "id": "ba93f7cf-a484-499c-bed2-a91e27bb5da3",
   "metadata": {},
   "outputs": [
    {
     "data": {
      "text/plain": [
       "array([[ 1.73689094],\n",
       "       [-0.92026952],\n",
       "       [ 1.4542143 ],\n",
       "       [ 0.21043706],\n",
       "       [-1.48562281],\n",
       "       [ 1.17153765],\n",
       "       [-1.6552288 ],\n",
       "       [-0.80719886],\n",
       "       [-0.24184557],\n",
       "       [ 0.0973664 ],\n",
       "       [-1.37255215],\n",
       "       [-1.03334018],\n",
       "       [-0.12877492],\n",
       "       [ 0.88886101],\n",
       "       [ 0.43657837],\n",
       "       [ 0.60618436],\n",
       "       [ 0.71925502],\n",
       "       [ 0.32350772]])"
      ]
     },
     "execution_count": 16,
     "metadata": {},
     "output_type": "execute_result"
    }
   ],
   "source": [
    "# observe std data\n",
    "X_train_std"
   ]
  },
  {
   "cell_type": "code",
   "execution_count": 17,
   "id": "cebd0f35-e4fc-41da-bb24-f7ca809b079e",
   "metadata": {},
   "outputs": [
    {
     "data": {
      "image/png": "[encoded data removed]",
      "text/plain": [
       "<Figure size 640x480 with 1 Axes>"
      ]
     },
     "metadata": {},
     "output_type": "display_data"
    }
   ],
   "source": [
    "# now the scatter plot for the derived values\n",
    "plt.scatter(X_train_std,y_train)\n",
    "plt.xlabel('Weight')\n",
    "plt.ylabel('Height')\n",
    "plt.show()"
   ]
  },
  {
   "cell_type": "code",
   "execution_count": 18,
   "id": "69eaab9d-5e7c-4efa-9e1b-8c31c596b970",
   "metadata": {},
   "outputs": [],
   "source": [
    "# importing libs\n",
    "from sklearn.linear_model import LinearRegression"
   ]
  },
  {
   "cell_type": "code",
   "execution_count": 19,
   "id": "aa04bf9d-0a7d-45ad-98da-d3f06206edc5",
   "metadata": {},
   "outputs": [],
   "source": [
    "regressor = LinearRegression()"
   ]
  },
  {
   "cell_type": "code",
   "execution_count": 20,
   "id": "c9511567-e6c4-4bb8-adf7-5ea7a46c66e6",
   "metadata": {},
   "outputs": [
    {
     "data": {
      "text/html": [
       "<style>#sk-container-id-1 {color: black;background-color: white;}#sk-container-id-1 pre{padding: 0;}#sk-container-id-1 div.sk-toggleable {background-color: white;}#sk-container-id-1 label.sk-toggleable__label {cursor: pointer;display: block;width: 100%;margin-bottom: 0;padding: 0.3em;box-sizing: border-box;text-align: center;}#sk-container-id-1 label.sk-toggleable__label-arrow:before {content: \"▸\";float: left;margin-right: 0.25em;color: #696969;}#sk-container-id-1 label.sk-toggleable__label-arrow:hover:before {color: black;}#sk-container-id-1 div.sk-estimator:hover label.sk-toggleable__label-arrow:before {color: black;}#sk-container-id-1 div.sk-toggleable__content {max-height: 0;max-width: 0;overflow: hidden;text-align: left;background-color: #f0f8ff;}#sk-container-id-1 div.sk-toggleable__content pre {margin: 0.2em;color: black;border-radius: 0.25em;background-color: #f0f8ff;}#sk-container-id-1 input.sk-toggleable__control:checked~div.sk-toggleable__content {max-height: 200px;max-width: 100%;overflow: auto;}#sk-container-id-1 input.sk-toggleable__control:checked~label.sk-toggleable__label-arrow:before {content: \"▾\";}#sk-container-id-1 div.sk-estimator input.sk-toggleable__control:checked~label.sk-toggleable__label {background-color: #d4ebff;}#sk-container-id-1 div.sk-label input.sk-toggleable__control:checked~label.sk-toggleable__label {background-color: #d4ebff;}#sk-container-id-1 input.sk-hidden--visually {border: 0;clip: rect(1px 1px 1px 1px);clip: rect(1px, 1px, 1px, 1px);height: 1px;margin: -1px;overflow: hidden;padding: 0;position: absolute;width: 1px;}#sk-container-id-1 div.sk-estimator {font-family: monospace;background-color: #f0f8ff;border: 1px dotted black;border-radius: 0.25em;box-sizing: border-box;margin-bottom: 0.5em;}#sk-container-id-1 div.sk-estimator:hover {background-color: #d4ebff;}#sk-container-id-1 div.sk-parallel-item::after {content: \"\";width: 100%;border-bottom: 1px solid gray;flex-grow: 1;}#sk-container-id-1 div.sk-label:hover label.sk-toggleable__label {background-color: #d4ebff;}#sk-container-id-1 div.sk-serial::before {content: \"\";position: absolute;border-left: 1px solid gray;box-sizing: border-box;top: 0;bottom: 0;left: 50%;z-index: 0;}#sk-container-id-1 div.sk-serial {display: flex;flex-direction: column;align-items: center;background-color: white;padding-right: 0.2em;padding-left: 0.2em;position: relative;}#sk-container-id-1 div.sk-item {position: relative;z-index: 1;}#sk-container-id-1 div.sk-parallel {display: flex;align-items: stretch;justify-content: center;background-color: white;position: relative;}#sk-container-id-1 div.sk-item::before, #sk-container-id-1 div.sk-parallel-item::before {content: \"\";position: absolute;border-left: 1px solid gray;box-sizing: border-box;top: 0;bottom: 0;left: 50%;z-index: -1;}#sk-container-id-1 div.sk-parallel-item {display: flex;flex-direction: column;z-index: 1;position: relative;background-color: white;}#sk-container-id-1 div.sk-parallel-item:first-child::after {align-self: flex-end;width: 50%;}#sk-container-id-1 div.sk-parallel-item:last-child::after {align-self: flex-start;width: 50%;}#sk-container-id-1 div.sk-parallel-item:only-child::after {width: 0;}#sk-container-id-1 div.sk-dashed-wrapped {border: 1px dashed gray;margin: 0 0.4em 0.5em 0.4em;box-sizing: border-box;padding-bottom: 0.4em;background-color: white;}#sk-container-id-1 div.sk-label label {font-family: monospace;font-weight: bold;display: inline-block;line-height: 1.2em;}#sk-container-id-1 div.sk-label-container {text-align: center;}#sk-container-id-1 div.sk-container {/* jupyter's `normalize.less` sets `[hidden] { display: none; }` but bootstrap.min.css set `[hidden] { display: none !important; }` so we also need the `!important` here to be able to override the default hidden behavior on the sphinx rendered scikit-learn.org. See: https://github.com/scikit-learn/scikit-learn/issues/21755 */display: inline-block !important;position: relative;}#sk-container-id-1 div.sk-text-repr-fallback {display: none;}</style><div id=\"sk-container-id-1\" class=\"sk-top-container\"><div class=\"sk-text-repr-fallback\"><pre>LinearRegression()</pre><b>In a Jupyter environment, please rerun this cell to show the HTML representation or trust the notebook. <br />On GitHub, the HTML representation is unable to render, please try loading this page with nbviewer.org.</b></div><div class=\"sk-container\" hidden><div class=\"sk-item\"><div class=\"sk-estimator sk-toggleable\"><input class=\"sk-toggleable__control sk-hidden--visually\" id=\"sk-estimator-id-1\" type=\"checkbox\" checked><label for=\"sk-estimator-id-1\" class=\"sk-toggleable__label sk-toggleable__label-arrow\">LinearRegression</label><div class=\"sk-toggleable__content\"><pre>LinearRegression()</pre></div></div></div></div></div>"
      ],
      "text/plain": [
       "LinearRegression()"
      ]
     },
     "execution_count": 20,
     "metadata": {},
     "output_type": "execute_result"
    }
   ],
   "source": [
    "# training model\n",
    "regressor.fit(X_train_std,y_train)"
   ]
  },
  {
   "cell_type": "code",
   "execution_count": 21,
   "id": "93f6e832-cec0-46b6-a354-79c3d3830c4b",
   "metadata": {},
   "outputs": [
    {
     "name": "stdout",
     "output_type": "stream",
     "text": [
      "The slope or coefficient of the weight is :  [17.03440872]\n"
     ]
    }
   ],
   "source": [
    "print(\"The slope or coefficient of the weight is : \", regressor.coef_)"
   ]
  },
  {
   "cell_type": "code",
   "execution_count": 22,
   "id": "f6a305fe-388b-4656-b035-8f50ce23e16c",
   "metadata": {},
   "outputs": [
    {
     "name": "stdout",
     "output_type": "stream",
     "text": [
      "Intercept :  157.5\n"
     ]
    }
   ],
   "source": [
    "print(\"Intercept : \",regressor.intercept_)"
   ]
  },
  {
   "cell_type": "code",
   "execution_count": 23,
   "id": "a6d2e761-7ac0-43ef-869a-03157936207e",
   "metadata": {},
   "outputs": [
    {
     "data": {
      "image/png": "[encoded data removed]",
      "text/plain": [
       "<Figure size 640x480 with 1 Axes>"
      ]
     },
     "metadata": {},
     "output_type": "display_data"
    }
   ],
   "source": [
    "# plotting best fit line\n",
    "plt.scatter(X_train_std,y_train)\n",
    "plt.plot(X_train_std, regressor.predict(X_train_std),'r')\n",
    "plt.show()"
   ]
  },
  {
   "cell_type": "markdown",
   "id": "324f01ca-2c25-40f8-abc6-ef5ed8f3d716",
   "metadata": {},
   "source": [
    "### prediction of train data\n",
    "1. predicted height outputs = intercept + coeff_(weights)\n",
    "2. y_pred_train = 157.5 + 17.03 (X_train_std)\n",
    "\n",
    "### prediction of test data \n",
    "1. predicted height output = intercept + coeff_(weights)\n",
    "2. y_pred_test = 157.5 + 17.03 (X_test_std)"
   ]
  },
  {
   "cell_type": "code",
   "execution_count": 24,
   "id": "a3abee13-e16d-425a-b986-d6b76b1175ca",
   "metadata": {},
   "outputs": [],
   "source": [
    "y_test_pred = regressor.predict(X_test_std)"
   ]
  },
  {
   "cell_type": "code",
   "execution_count": 25,
   "id": "778cd41f-b813-4236-835e-592d41fd9e9d",
   "metadata": {},
   "outputs": [
    {
     "data": {
      "image/png": "[encoded data removed]",
      "text/plain": [
       "<Figure size 640x480 with 1 Axes>"
      ]
     },
     "metadata": {},
     "output_type": "display_data"
    }
   ],
   "source": [
    "# observing predicted data and actual data\n",
    "\n",
    "# original data\n",
    "plt.scatter(X_test_std,y_test)\n",
    "\n",
    "# predicted data\n",
    "plt.plot(X_test_std, regressor.predict(X_test_std), 'r+') # replace 'r+' with 'r' to draw line instead of points\n",
    "\n",
    "plt.show()"
   ]
  },
  {
   "cell_type": "code",
   "execution_count": 26,
   "id": "b30b47dd-ee9f-4e46-a1d1-6c4966bf9315",
   "metadata": {},
   "outputs": [
    {
     "data": {
      "text/plain": [
       "15    177\n",
       "9     170\n",
       "0     120\n",
       "8     182\n",
       "17    159\n",
       "Name: Height, dtype: int64"
      ]
     },
     "execution_count": 26,
     "metadata": {},
     "output_type": "execute_result"
    }
   ],
   "source": [
    "# actual data\n",
    "y_test"
   ]
  },
  {
   "cell_type": "code",
   "execution_count": 27,
   "id": "7ec3834e-5cdd-45c0-b069-f75d077d34fe",
   "metadata": {},
   "outputs": [
    {
     "data": {
      "text/plain": [
       "array([161.08467086, 161.08467086, 129.3041561 , 177.45645118,\n",
       "       148.56507414])"
      ]
     },
     "execution_count": 27,
     "metadata": {},
     "output_type": "execute_result"
    }
   ],
   "source": [
    "# predicted data\n",
    "y_test_pred"
   ]
  },
  {
   "cell_type": "markdown",
   "id": "41ef3240-2cf0-4a9d-b132-66e0a13eebe1",
   "metadata": {},
   "source": [
    "## Calculating \n",
    "\n",
    "### MSE, MAE, RMSE\n",
    "\n",
    "### R square and Adjusted R square"
   ]
  },
  {
   "cell_type": "markdown",
   "id": "638831be-b942-44ae-b03a-8b6f01763468",
   "metadata": {},
   "source": [
    "### 1. **Mean Squared Error (MSE)**\n",
    "   - **Definition**: The average of the squared differences between actual and predicted values.\n",
    "   - **Significance**: Measures how well the model predicts; lower values indicate better performance.\n",
    "   - **Formula**: \n",
    "   \n",
    "   MSE = 1/n{ summation(i=1 to n){ (y_i - y_i(hat))^2}\n",
    "   \n",
    "\n",
    "### 2. **Mean Absolute Error (MAE)**\n",
    "   - **Definition**: The average of the absolute differences between actual and predicted values.\n",
    "   - **Significance**: Provides a more interpretable measure of error in the same unit as the target variable.\n",
    "   - **Formula**:\n",
    "   \n",
    "   MSE = 1/n{ summation(i=1 to n){ mod(y_i - y_i(hat))}\n",
    "   \n",
    "\n",
    "### 3. **Root Mean Squared Error (RMSE)**\n",
    "   - **Definition**: The square root of MSE.\n",
    "   - **Significance**: Helps interpret the error in the same unit as the target variable; sensitive to large errors.\n",
    "   - **Formula**:\n",
    "   \\[\n",
    "   RMSE =  (MSE)^1/2\n",
    "   \\]\n",
    "\n",
    "### 4. **R-squared (R²)**\n",
    "   - **Definition**: Proportion of the variance in the dependent variable that is predictable from the independent variable.\n",
    "   - **Significance**: Indicates model fit; values closer to 1 show a better fit.\n",
    "   - **Formula**:\n",
    "   \n",
    "   R^2 = 1 - { SS_{res} / SS_{tot} }\n",
    "   \n",
    "\n",
    "### 5. **Adjusted R-squared**\n",
    "   - **Definition**: A modified version of R² that adjusts for the number of predictors in the model.\n",
    "   - **Significance**: Prevents overestimation of the model's performance when adding more variables.\n",
    "   - **Formula**:\n",
    "   \n",
    "   Adjusted R^2 = 1 - { (1 - R^2)(n - 1) / (n - p - 1) }\n",
    "   \n",
    "   where \\(n\\) is the number of observations and \\(p\\) is the number of predictors."
   ]
  },
  {
   "cell_type": "code",
   "execution_count": 28,
   "id": "0746e2a2-d54f-4ed7-925c-432eaaae1397",
   "metadata": {},
   "outputs": [],
   "source": [
    "from sklearn.metrics import mean_absolute_error,mean_squared_error"
   ]
  },
  {
   "cell_type": "code",
   "execution_count": 29,
   "id": "0f729b3e-50ac-4717-9092-af90698f4f74",
   "metadata": {},
   "outputs": [
    {
     "name": "stdout",
     "output_type": "stream",
     "text": [
      "MAE :  9.822657814519232\n",
      "MSE :  109.77592599051664\n",
      "RMSE :  10.477400726827081\n"
     ]
    }
   ],
   "source": [
    "mae = mean_absolute_error(y_test, y_test_pred)\n",
    "mse = mean_squared_error(y_test, y_test_pred)\n",
    "rmse = np.sqrt(mse)\n",
    "\n",
    "print(\"MAE : \",mae)\n",
    "print(\"MSE : \",mse)\n",
    "print(\"RMSE : \",rmse)"
   ]
  },
  {
   "cell_type": "code",
   "execution_count": 30,
   "id": "b2ad345f-2187-4916-9cc2-82597b56ef9b",
   "metadata": {},
   "outputs": [],
   "source": [
    "# remember, smaller the values of above 3 metrices better the model prediction is"
   ]
  },
  {
   "cell_type": "markdown",
   "id": "3460704e-56a9-4774-87e6-c1dc5a0d9e80",
   "metadata": {},
   "source": [
    "## R square and Adjusted R Square"
   ]
  },
  {
   "cell_type": "code",
   "execution_count": 31,
   "id": "13ba3d21-9369-4e3d-9ad2-8cc37067a95d",
   "metadata": {},
   "outputs": [],
   "source": [
    "from sklearn.metrics import r2_score"
   ]
  },
  {
   "cell_type": "code",
   "execution_count": 32,
   "id": "e720df10-dff1-440e-a7a7-6a4f1b64ec95",
   "metadata": {},
   "outputs": [
    {
     "name": "stdout",
     "output_type": "stream",
     "text": [
      "0.776986986042344\n"
     ]
    }
   ],
   "source": [
    "score = r2_score(y_test, y_test_pred)\n",
    "print(score)"
   ]
  },
  {
   "cell_type": "code",
   "execution_count": 33,
   "id": "086443af-3cb0-43a0-9c07-c65b2f7d0fb5",
   "metadata": {},
   "outputs": [],
   "source": [
    "# means our model has 77.6% accuracy"
   ]
  },
  {
   "cell_type": "code",
   "execution_count": 34,
   "id": "1b106932-9909-4a7a-93c3-37d1478ff27b",
   "metadata": {},
   "outputs": [
    {
     "data": {
      "text/plain": [
       "0.7026493147231252"
      ]
     },
     "execution_count": 34,
     "metadata": {},
     "output_type": "execute_result"
    }
   ],
   "source": [
    "# to display adjusted R square\n",
    "1 - (1- score) * (len(y_test)-1) / (len(y_test)-X_test.shape[1] -1)"
   ]
  },
  {
   "cell_type": "markdown",
   "id": "8075c844-8e10-4429-8e3d-d31374222645",
   "metadata": {},
   "source": [
    "### Predicting new values through our model"
   ]
  },
  {
   "cell_type": "code",
   "execution_count": 35,
   "id": "1dafcdbd-fd31-4497-a702-63643f87a96b",
   "metadata": {},
   "outputs": [
    {
     "data": {
      "text/html": [
       "<style>#sk-container-id-2 {color: black;background-color: white;}#sk-container-id-2 pre{padding: 0;}#sk-container-id-2 div.sk-toggleable {background-color: white;}#sk-container-id-2 label.sk-toggleable__label {cursor: pointer;display: block;width: 100%;margin-bottom: 0;padding: 0.3em;box-sizing: border-box;text-align: center;}#sk-container-id-2 label.sk-toggleable__label-arrow:before {content: \"▸\";float: left;margin-right: 0.25em;color: #696969;}#sk-container-id-2 label.sk-toggleable__label-arrow:hover:before {color: black;}#sk-container-id-2 div.sk-estimator:hover label.sk-toggleable__label-arrow:before {color: black;}#sk-container-id-2 div.sk-toggleable__content {max-height: 0;max-width: 0;overflow: hidden;text-align: left;background-color: #f0f8ff;}#sk-container-id-2 div.sk-toggleable__content pre {margin: 0.2em;color: black;border-radius: 0.25em;background-color: #f0f8ff;}#sk-container-id-2 input.sk-toggleable__control:checked~div.sk-toggleable__content {max-height: 200px;max-width: 100%;overflow: auto;}#sk-container-id-2 input.sk-toggleable__control:checked~label.sk-toggleable__label-arrow:before {content: \"▾\";}#sk-container-id-2 div.sk-estimator input.sk-toggleable__control:checked~label.sk-toggleable__label {background-color: #d4ebff;}#sk-container-id-2 div.sk-label input.sk-toggleable__control:checked~label.sk-toggleable__label {background-color: #d4ebff;}#sk-container-id-2 input.sk-hidden--visually {border: 0;clip: rect(1px 1px 1px 1px);clip: rect(1px, 1px, 1px, 1px);height: 1px;margin: -1px;overflow: hidden;padding: 0;position: absolute;width: 1px;}#sk-container-id-2 div.sk-estimator {font-family: monospace;background-color: #f0f8ff;border: 1px dotted black;border-radius: 0.25em;box-sizing: border-box;margin-bottom: 0.5em;}#sk-container-id-2 div.sk-estimator:hover {background-color: #d4ebff;}#sk-container-id-2 div.sk-parallel-item::after {content: \"\";width: 100%;border-bottom: 1px solid gray;flex-grow: 1;}#sk-container-id-2 div.sk-label:hover label.sk-toggleable__label {background-color: #d4ebff;}#sk-container-id-2 div.sk-serial::before {content: \"\";position: absolute;border-left: 1px solid gray;box-sizing: border-box;top: 0;bottom: 0;left: 50%;z-index: 0;}#sk-container-id-2 div.sk-serial {display: flex;flex-direction: column;align-items: center;background-color: white;padding-right: 0.2em;padding-left: 0.2em;position: relative;}#sk-container-id-2 div.sk-item {position: relative;z-index: 1;}#sk-container-id-2 div.sk-parallel {display: flex;align-items: stretch;justify-content: center;background-color: white;position: relative;}#sk-container-id-2 div.sk-item::before, #sk-container-id-2 div.sk-parallel-item::before {content: \"\";position: absolute;border-left: 1px solid gray;box-sizing: border-box;top: 0;bottom: 0;left: 50%;z-index: -1;}#sk-container-id-2 div.sk-parallel-item {display: flex;flex-direction: column;z-index: 1;position: relative;background-color: white;}#sk-container-id-2 div.sk-parallel-item:first-child::after {align-self: flex-end;width: 50%;}#sk-container-id-2 div.sk-parallel-item:last-child::after {align-self: flex-start;width: 50%;}#sk-container-id-2 div.sk-parallel-item:only-child::after {width: 0;}#sk-container-id-2 div.sk-dashed-wrapped {border: 1px dashed gray;margin: 0 0.4em 0.5em 0.4em;box-sizing: border-box;padding-bottom: 0.4em;background-color: white;}#sk-container-id-2 div.sk-label label {font-family: monospace;font-weight: bold;display: inline-block;line-height: 1.2em;}#sk-container-id-2 div.sk-label-container {text-align: center;}#sk-container-id-2 div.sk-container {/* jupyter's `normalize.less` sets `[hidden] { display: none; }` but bootstrap.min.css set `[hidden] { display: none !important; }` so we also need the `!important` here to be able to override the default hidden behavior on the sphinx rendered scikit-learn.org. See: https://github.com/scikit-learn/scikit-learn/issues/21755 */display: inline-block !important;position: relative;}#sk-container-id-2 div.sk-text-repr-fallback {display: none;}</style><div id=\"sk-container-id-2\" class=\"sk-top-container\"><div class=\"sk-text-repr-fallback\"><pre>LinearRegression()</pre><b>In a Jupyter environment, please rerun this cell to show the HTML representation or trust the notebook. <br />On GitHub, the HTML representation is unable to render, please try loading this page with nbviewer.org.</b></div><div class=\"sk-container\" hidden><div class=\"sk-item\"><div class=\"sk-estimator sk-toggleable\"><input class=\"sk-toggleable__control sk-hidden--visually\" id=\"sk-estimator-id-2\" type=\"checkbox\" checked><label for=\"sk-estimator-id-2\" class=\"sk-toggleable__label sk-toggleable__label-arrow\">LinearRegression</label><div class=\"sk-toggleable__content\"><pre>LinearRegression()</pre></div></div></div></div></div>"
      ],
      "text/plain": [
       "LinearRegression()"
      ]
     },
     "execution_count": 35,
     "metadata": {},
     "output_type": "execute_result"
    }
   ],
   "source": [
    "# this is  our model\n",
    "regressor"
   ]
  },
  {
   "cell_type": "code",
   "execution_count": 36,
   "id": "ef736f18-e196-4dbb-b1ad-41d60444466c",
   "metadata": {},
   "outputs": [
    {
     "name": "stderr",
     "output_type": "stream",
     "text": [
      "/opt/conda/lib/python3.10/site-packages/sklearn/base.py:409: UserWarning: X does not have valid feature names, but StandardScaler was fitted with feature names\n",
      "  warnings.warn(\n"
     ]
    },
    {
     "data": {
      "text/plain": [
       "array([[0.32350772]])"
      ]
     },
     "execution_count": 36,
     "metadata": {},
     "output_type": "execute_result"
    }
   ],
   "source": [
    "# Let's take a new point, weight = 80\n",
    "# Now to predict height:\n",
    "\n",
    "# standardizing or scaling it down\n",
    "scaled_weight = scaler.transform([[80]])\n",
    "\n",
    "scaled_weight"
   ]
  },
  {
   "cell_type": "code",
   "execution_count": 37,
   "id": "34379e6f-0fc3-44ea-9f0f-0678d146f3be",
   "metadata": {},
   "outputs": [
    {
     "data": {
      "text/plain": [
       "array([0.32350772])"
      ]
     },
     "execution_count": 37,
     "metadata": {},
     "output_type": "execute_result"
    }
   ],
   "source": [
    "# since 'scaled_weight' is a 2-D array\n",
    "scaled_weight[0]"
   ]
  },
  {
   "cell_type": "code",
   "execution_count": 38,
   "id": "034d6061-3b33-4e1f-b852-78ad6deeb6ae",
   "metadata": {},
   "outputs": [
    {
     "name": "stdout",
     "output_type": "stream",
     "text": [
      "Predicted height for the weight of 80 kgs is  [163.01076266]\n"
     ]
    }
   ],
   "source": [
    "# to predict this weight \n",
    "print(\"Predicted height for the weight of 80 kgs is \",regressor.predict([scaled_weight[0]]))"
   ]
  },
  {
   "cell_type": "markdown",
   "id": "0342a7d3-265a-403e-84a8-3f82093e538d",
   "metadata": {},
   "source": [
    "### Some important Assumptions\n",
    "When do we say our model is performing well? \n",
    "By having these assumptions"
   ]
  },
  {
   "cell_type": "code",
   "execution_count": 39,
   "id": "6037d35f-9a89-4c70-ada4-a59fe8578182",
   "metadata": {},
   "outputs": [
    {
     "data": {
      "image/png": "[encoded data removed]",
      "text/plain": [
       "<Figure size 640x480 with 1 Axes>"
      ]
     },
     "metadata": {},
     "output_type": "display_data"
    }
   ],
   "source": [
    "# 1. Scatter plot between original values and predicted values\n",
    "# If we get a straight line, then we trained the model well\n",
    "plt.scatter(y_test,y_test_pred)\n",
    "plt.show()"
   ]
  },
  {
   "cell_type": "code",
   "execution_count": 57,
   "id": "33ef157e-c86f-480e-8f4f-c77fc34018ff",
   "metadata": {},
   "outputs": [
    {
     "data": {
      "text/plain": [
       "<AxesSubplot: xlabel='Height', ylabel='Count'>"
      ]
     },
     "execution_count": 57,
     "metadata": {},
     "output_type": "execute_result"
    },
    {
     "data": {
      "image/png": "[encoded data removed]",
      "text/plain": [
       "<Figure size 640x480 with 1 Axes>"
      ]
     },
     "metadata": {},
     "output_type": "display_data"
    }
   ],
   "source": [
    "# 2. Plotting the residuals\n",
    "# If the data is normally distributed then we made a good prediction \n",
    "# In this case, the data is a little bit left skewwed but its alright \n",
    "residuals = y_test - y_test_pred\n",
    "\n",
    "import seaborn as sns\n",
    "sns.histplot(residuals,kde=True,bins=5)"
   ]
  },
  {
   "cell_type": "code",
   "execution_count": 60,
   "id": "422e2652-1610-4063-9a95-853024d243c2",
   "metadata": {},
   "outputs": [
    {
     "data": {
      "text/plain": [
       "[]"
      ]
     },
     "execution_count": 60,
     "metadata": {},
     "output_type": "execute_result"
    },
    {
     "data": {
      "image/png": "[encoded data removed]",
      "text/plain": [
       "<Figure size 640x480 with 1 Axes>"
      ]
     },
     "metadata": {},
     "output_type": "display_data"
    }
   ],
   "source": [
    "# 3. Scatter plot with respect to predictions and residuals\n",
    "# It should be uniformally distributed for good prediction \n",
    "\n",
    "plt.scatter(y_test_pred,residuals)\n",
    "plt.plot()"
   ]
  },
  {
   "cell_type": "code",
   "execution_count": 62,
   "id": "f1f97a39-65d6-46ca-974b-64a907e9e117",
   "metadata": {},
   "outputs": [],
   "source": [
    "# pickling the file\n",
    "# the model should be stored in form of some file for later deployment purposes"
   ]
  },
  {
   "cell_type": "markdown",
   "id": "99bbfa08-ec78-4c93-a1ee-e8f216a8f282",
   "metadata": {},
   "source": [
    "## Some Important Questions and their Answers\n",
    "<br>\n",
    "\n",
    "### 1. **What is Simple Linear Regression?**\n",
    "   **Answer**: Simple Linear Regression is a statistical method that models the relationship between one dependent variable (output) and one independent variable (input) by fitting a linear equation to the observed data.\n",
    "\n",
    "### 2. **What is the equation of a Simple Linear Regression model?**\n",
    "   **Answer**: The equation is:\n",
    "   \\[\n",
    "   y = mx + c\n",
    "   \\]\n",
    "   where \\(y\\) is the predicted value, \\(x\\) is the independent variable, \\(m\\) is the slope of the line, and \\(c\\) is the intercept.\n",
    "\n",
    "### 3. **What does the slope and intercept represent in Simple Linear Regression?**\n",
    "   **Answer**: The slope (\\(m\\)) represents the rate at which the dependent variable changes with respect to the independent variable. The intercept (\\(c\\)) represents the value of the dependent variable when the independent variable is zero.\n",
    "\n",
    "### 4. **What are the assumptions of Simple Linear Regression?**\n",
    "   **Answer**: The key assumptions are:\n",
    "   - Linearity: The relationship between independent and dependent variables is linear.\n",
    "   - Independence: Observations are independent of each other.\n",
    "   - Homoscedasticity: The variance of residuals is constant across all levels of the independent variable.\n",
    "   - Normality: Residuals should follow a normal distribution.\n",
    "\n",
    "### 5. **How is the best-fit line determined in Simple Linear Regression?**\n",
    "   **Answer**: The best-fit line is determined by minimizing the sum of squared residuals (errors) between the actual and predicted values. This method is called Ordinary Least Squares (OLS).\n",
    "\n",
    "### 6. **What is R-squared in Simple Linear Regression?**\n",
    "   **Answer**: R-squared (\\(R^2\\)) is a statistical measure that indicates the proportion of variance in the dependent variable that is predictable from the independent variable. It ranges from 0 to 1, with values closer to 1 indicating a better fit.\n",
    "\n",
    "### 7. **What is the difference between R-squared and Adjusted R-squared?**\n",
    "   **Answer**: While \\(R^2\\) indicates the goodness of fit, Adjusted R-squared adjusts for the number of predictors in the model and penalizes adding irrelevant variables. It gives a more accurate measure of model performance, especially with multiple predictors.\n",
    "\n",
    "### 8. **What are residuals in Simple Linear Regression?**\n",
    "   **Answer**: Residuals are the differences between the actual values of the dependent variable and the predicted values by the regression model. They represent the error in the predictions.\n",
    "\n",
    "### 9. **How can you check if a Simple Linear Regression model is appropriate?**\n",
    "   **Answer**: You can check the model's appropriateness by:\n",
    "   - Plotting residuals vs. fitted values (to check for patterns or non-linearity).\n",
    "   - Checking for normality of residuals with a Q-Q plot.\n",
    "   - Checking \\(R^2\\) and Adjusted \\(R^2\\) for model fit.\n",
    "   - Testing for homoscedasticity (constant variance).\n",
    "\n",
    "### 10. **What are the limitations of Simple Linear Regression?**\n",
    "   **Answer**: Limitations include:\n",
    "   - It assumes a linear relationship between variables, which may not always hold.\n",
    "   - Sensitive to outliers, which can skew results.\n",
    "   - It can't handle multiple independent variables, making it less suitable for complex data relationships."
   ]
  }
 ],
 "metadata": {
  "kernelspec": {
   "display_name": "Python 3 (ipykernel)",
   "language": "python",
   "name": "python3"
  },
  "language_info": {
   "codemirror_mode": {
    "name": "ipython",
    "version": 3
   },
   "file_extension": ".py",
   "mimetype": "text/x-python",
   "name": "python",
   "nbconvert_exporter": "python",
   "pygments_lexer": "ipython3",
   "version": "3.10.8"
  }
 },
 "nbformat": 4,
 "nbformat_minor": 5
}
